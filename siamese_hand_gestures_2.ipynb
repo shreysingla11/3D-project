{
  "nbformat": 4,
  "nbformat_minor": 0,
  "metadata": {
    "colab": {
      "name": "siamese_hand_gestures-2.ipynb",
      "provenance": [],
      "authorship_tag": "ABX9TyNaeOfjLOLKtcCpOq//VQwU",
      "include_colab_link": true
    },
    "kernelspec": {
      "name": "python3",
      "display_name": "Python 3"
    },
    "accelerator": "GPU"
  },
  "cells": [
    {
      "cell_type": "markdown",
      "metadata": {
        "id": "view-in-github",
        "colab_type": "text"
      },
      "source": [
        "<a href=\"https://colab.research.google.com/github/shreysingla11/3D-project/blob/master/siamese_hand_gestures_2.ipynb\" target=\"_parent\"><img src=\"https://colab.research.google.com/assets/colab-badge.svg\" alt=\"Open In Colab\"/></a>"
      ]
    },
    {
      "cell_type": "code",
      "metadata": {
        "id": "HJGFJwDumVrD",
        "colab_type": "code",
        "colab": {
          "base_uri": "https://localhost:8080/",
          "height": 390
        },
        "outputId": "bdb46673-a986-4daf-d5d1-704ad60bd809"
      },
      "source": [
        "from keras.layers import Input, Conv2D, Lambda, merge, Dense, Flatten,MaxPooling2D,Dropout\n",
        "from keras.models import Model, Sequential\n",
        "from keras.regularizers import l2\n",
        "from keras import backend as K\n",
        "from keras.optimizers import SGD,Adam\n",
        "from keras.losses import binary_crossentropy\n",
        "import numpy.random as rng\n",
        "import matplotlib.pyplot as plt\n",
        "import cv2\n",
        "import numpy as np\n",
        "import os\n",
        "import pickle\n",
        "import matplotlib.pyplot as plt\n",
        "#import seaborn as sns\n",
        "from sklearn.utils import shuffle\n",
        "%matplotlib inline\n",
        "def W_init(shape,dtype=None):\n",
        "    \"\"\"Initialize weights as in paper\"\"\"\n",
        "    values = rng.normal(loc=0,scale=1e-2,size=shape)\n",
        "    return K.variable(values,dtype=dtype)\n",
        "#//TODO: figure out how to initialize layer biases in keras.\n",
        "def b_init(shape,dtype=None):\n",
        "    \"\"\"Initialize bias as in paper\"\"\"\n",
        "    values=rng.normal(loc=0.5,scale=1e-2,size=shape)\n",
        "    return K.variable(values,dtype=dtype)\n",
        "\n",
        "input_shape = (105, 105, 3)\n",
        "left_input = Input(input_shape)\n",
        "right_input = Input(input_shape)\n",
        "#build convnet to use in each siamese 'leg'\n",
        "convnet = Sequential()\n",
        "convnet.add(Conv2D(64,(10,10),activation='relu',input_shape=input_shape,\n",
        "                   kernel_initializer=W_init,kernel_regularizer=l2(2e-4)))\n",
        "convnet.add(MaxPooling2D())\n",
        "convnet.add(Conv2D(128,(7,7),activation='relu',\n",
        "                   kernel_regularizer=l2(2e-4),kernel_initializer=W_init,bias_initializer=b_init))\n",
        "convnet.add(MaxPooling2D())\n",
        "convnet.add(Conv2D(128,(4,4),activation='relu',kernel_initializer=W_init,kernel_regularizer=l2(2e-4),bias_initializer=b_init))\n",
        "convnet.add(MaxPooling2D())\n",
        "convnet.add(Conv2D(256,(4,4),activation='relu',kernel_initializer=W_init,kernel_regularizer=l2(2e-4),bias_initializer=b_init))\n",
        "#convnet.add(MaxPooling2D())\n",
        "convnet.add(Flatten())\n",
        "convnet.add(Dropout(0.5))\n",
        "convnet.add(Dense(2048,activation=\"sigmoid\",kernel_regularizer=l2(1e-3),kernel_initializer=W_init,bias_initializer=b_init))\n",
        "\n",
        "#call the convnet Sequential model on each of the input tensors so params will be shared\n",
        "encoded_l = convnet(left_input)\n",
        "encoded_r = convnet(right_input)\n",
        "#layer to merge two encoded inputs with the l1 distance between them\n",
        "L1_layer = Lambda(lambda tensors:K.abs(tensors[0] - tensors[1]))\n",
        "#call this layer on list of two input tensors.\n",
        "L1_distance = L1_layer([encoded_l, encoded_r])\n",
        "prediction = Dense(1,activation='sigmoid',bias_initializer=b_init)(L1_distance)\n",
        "siamese_net = Model(inputs=[left_input,right_input],outputs=prediction)\n",
        "\n",
        "optimizer = Adam(0.00004)\n",
        "#//TODO: get layerwise learning rates and momentum annealing scheme described in paperworking\n",
        "siamese_net.compile(loss=\"binary_crossentropy\",optimizer=optimizer)\n",
        "\n",
        "siamese_net.summary()\n"
      ],
      "execution_count": 1,
      "outputs": [
        {
          "output_type": "stream",
          "text": [
            "Using TensorFlow backend.\n"
          ],
          "name": "stderr"
        },
        {
          "output_type": "stream",
          "text": [
            "Model: \"model_1\"\n",
            "__________________________________________________________________________________________________\n",
            "Layer (type)                    Output Shape         Param #     Connected to                     \n",
            "==================================================================================================\n",
            "input_1 (InputLayer)            (None, 105, 105, 3)  0                                            \n",
            "__________________________________________________________________________________________________\n",
            "input_2 (InputLayer)            (None, 105, 105, 3)  0                                            \n",
            "__________________________________________________________________________________________________\n",
            "sequential_1 (Sequential)       (None, 2048)         20084032    input_1[0][0]                    \n",
            "                                                                 input_2[0][0]                    \n",
            "__________________________________________________________________________________________________\n",
            "lambda_1 (Lambda)               (None, 2048)         0           sequential_1[1][0]               \n",
            "                                                                 sequential_1[2][0]               \n",
            "__________________________________________________________________________________________________\n",
            "dense_2 (Dense)                 (None, 1)            2049        lambda_1[0][0]                   \n",
            "==================================================================================================\n",
            "Total params: 20,086,081\n",
            "Trainable params: 20,086,081\n",
            "Non-trainable params: 0\n",
            "__________________________________________________________________________________________________\n"
          ],
          "name": "stdout"
        }
      ]
    },
    {
      "cell_type": "code",
      "metadata": {
        "id": "sPVbPz7qm2b8",
        "colab_type": "code",
        "colab": {
          "base_uri": "https://localhost:8080/",
          "height": 34
        },
        "outputId": "543ef5ef-282e-4182-ded8-2cc34901bd5f"
      },
      "source": [
        "import tensorflow as tf\n",
        "tf.test.gpu_device_name()"
      ],
      "execution_count": 2,
      "outputs": [
        {
          "output_type": "execute_result",
          "data": {
            "text/plain": [
              "'/device:GPU:0'"
            ]
          },
          "metadata": {
            "tags": []
          },
          "execution_count": 2
        }
      ]
    },
    {
      "cell_type": "code",
      "metadata": {
        "id": "vKg0h67Zm4uD",
        "colab_type": "code",
        "colab": {
          "base_uri": "https://localhost:8080/",
          "height": 125
        },
        "outputId": "b6c3eeea-accc-4582-fc11-585b6e635d29"
      },
      "source": [
        "from google.colab import drive\n",
        "drive.mount('/content/gdrive')"
      ],
      "execution_count": 3,
      "outputs": [
        {
          "output_type": "stream",
          "text": [
            "Go to this URL in a browser: https://accounts.google.com/o/oauth2/auth?client_id=947318989803-6bn6qk8qdgf4n4g3pfee6491hc0brc4i.apps.googleusercontent.com&redirect_uri=urn%3aietf%3awg%3aoauth%3a2.0%3aoob&response_type=code&scope=email%20https%3a%2f%2fwww.googleapis.com%2fauth%2fdocs.test%20https%3a%2f%2fwww.googleapis.com%2fauth%2fdrive%20https%3a%2f%2fwww.googleapis.com%2fauth%2fdrive.photos.readonly%20https%3a%2f%2fwww.googleapis.com%2fauth%2fpeopleapi.readonly\n",
            "\n",
            "Enter your authorization code:\n",
            "··········\n",
            "Mounted at /content/gdrive\n"
          ],
          "name": "stdout"
        }
      ]
    },
    {
      "cell_type": "code",
      "metadata": {
        "id": "wfbKJbPMm5NG",
        "colab_type": "code",
        "colab": {}
      },
      "source": [
        "\n",
        "data_path = '/content/gdrive/My Drive/Handgestures-15'\n",
        "train_path = os.path.join(data_path,'train')\n",
        "valid_path = os.path.join(data_path,'valid')\n",
        "\n",
        "def loadimgs(path):\n",
        "    if path == '/content/gdrive/My Drive/Handgestures-15/train':\n",
        "        X = np.zeros((15,50,105,105,3))\n",
        "    else:\n",
        "        X = np.zeros((15,16,105,105,3))\n",
        "    labels = {}\n",
        "    for i,name in enumerate(os.listdir(path)):\n",
        "        print(i)\n",
        "        class_path = os.path.join(path,name)\n",
        "        labels[name] = i\n",
        "        for j,f in enumerate(os.listdir(class_path)):\n",
        "            img_path = os.path.join(class_path,f)\n",
        "            img = cv2.imread(img_path)\n",
        "            X[i,j,:,:,:] = img\n",
        "    return X,labels"
      ],
      "execution_count": 0,
      "outputs": []
    },
    {
      "cell_type": "code",
      "metadata": {
        "id": "lEi9xoiFm6_B",
        "colab_type": "code",
        "colab": {
          "base_uri": "https://localhost:8080/",
          "height": 550
        },
        "outputId": "f104804a-f347-4224-d173-d8bf87eb469a"
      },
      "source": [
        "X,c = loadimgs(train_path)\n",
        "Xval,cval = loadimgs(valid_path)\n",
        "data = [X,c,Xval,cval]"
      ],
      "execution_count": 5,
      "outputs": [
        {
          "output_type": "stream",
          "text": [
            "0\n",
            "1\n",
            "2\n",
            "3\n",
            "4\n",
            "5\n",
            "6\n",
            "7\n",
            "8\n",
            "9\n",
            "10\n",
            "11\n",
            "12\n",
            "13\n",
            "14\n",
            "0\n",
            "1\n",
            "2\n",
            "3\n",
            "4\n",
            "5\n",
            "6\n",
            "7\n",
            "8\n",
            "9\n",
            "10\n",
            "11\n",
            "12\n",
            "13\n",
            "14\n"
          ],
          "name": "stdout"
        }
      ]
    },
    {
      "cell_type": "code",
      "metadata": {
        "id": "f9iSORLlm9Mz",
        "colab_type": "code",
        "colab": {}
      },
      "source": [
        "class Siamese_Loader:\n",
        "    \"\"\"For loading batches and testing tasks to a siamese net\"\"\"\n",
        "    def __init__(self,data):\n",
        "        self.data = {}\n",
        "        self.categories = {}\n",
        "        self.info = {}\n",
        "        self.data['train'] = data[0]\n",
        "        self.categories['train'] = data[1]\n",
        "        self.data['val'] = data[2]\n",
        "        self.categories['val'] = data[3]\n",
        "        \n",
        "    def get_batch(self,batch_size,s=\"train\"):\n",
        "        \"\"\"Create batch of n pairs, half same class, half different class\"\"\"\n",
        "        X=self.data[s]\n",
        "        n_classes, n_examples, w, h ,ch = X.shape\n",
        "\n",
        "        #randomly sample several classes to use in the batch\n",
        "        categories = rng.choice(n_classes,size=(batch_size,),replace=True)\n",
        "        #initialize 2 empty arrays for the input image batch\n",
        "        pairs=[np.zeros((batch_size, h, w, 3)) for i in range(2)]\n",
        "        #initialize vector for the targets, and make one half of it '1's, so 2nd half of batch has same class\n",
        "        targets=np.zeros((batch_size,))\n",
        "        targets[batch_size//2:] = 1\n",
        "        for i in range(batch_size):\n",
        "            category = categories[i]\n",
        "            idx_1 = rng.randint(0, n_examples)\n",
        "            pairs[0][i,:,:,:] = X[category, idx_1].reshape(w, h, 3)\n",
        "            idx_2 = rng.randint(0, n_examples)\n",
        "            #pick images of same class for 1st half, different for 2nd\n",
        "            if i >= batch_size // 2:\n",
        "                category_2 = category  \n",
        "            else: \n",
        "                #add a random number to the category modulo n classes to ensure 2nd image has\n",
        "                # ..different category\n",
        "                category_2 = (category + rng.randint(1,n_classes)) % n_classes\n",
        "            pairs[1][i,:,:,:] = X[category_2,idx_2].reshape(w, h, 3)\n",
        "        return pairs, targets    \n",
        "\n",
        "    \n",
        "    def generate(self, batch_size, s=\"train\"):\n",
        "        \"\"\"a generator for batches, so model.fit_generator can be used. \"\"\"\n",
        "        while True:\n",
        "            pairs, targets = self.get_batch(batch_size,s)\n",
        "            yield (pairs, targets)    \n",
        "\n",
        "    def make_oneshot_task(self,N,s=\"val\"):\n",
        "        if N>15:\n",
        "            print('exceeds number of classes')\n",
        "            return\n",
        "        else:\n",
        "            X = self.data[s]\n",
        "            n_classes,n_examples,w,h,c = X.shape\n",
        "            indices = rng.randint(0,n_examples,size=(N,))\n",
        "            categories = rng.randint(0,n_classes,size=(N,))\n",
        "            true_category = categories[0]\n",
        "            ex1,ex2 = rng.choice(n_examples,replace=False,size=(2,))\n",
        "            test_image = np.asarray([X[true_category,ex1,:,:,:]]*N).reshape(N,w,h,3)\n",
        "            support_set = X[categories,indices,:,:,:]\n",
        "            support_set[0,:,:,:] = X[true_category,ex2]\n",
        "            support_set = support_set.reshape(N,w,h,3)\n",
        "            targets = np.zeros((N,))\n",
        "            targets[0] = 1\n",
        "            targets, test_image, support_set = shuffle(targets, test_image, support_set)\n",
        "            pairs = [test_image,support_set]\n",
        "            return pairs, targets\n",
        "        \n",
        "    def test_oneshot(self,model,N,k,s=\"val\",verbose=0):\n",
        "        \"\"\"Test average N way oneshot learning accuracy of a siamese neural net over k one-shot tasks\"\"\"\n",
        "        n_correct = 0\n",
        "        if verbose:\n",
        "            pass\n",
        "            #print(\"Evaluating model on {} random {} way one-shot learning tasks ...\".format(k,N))\n",
        "        for i in range(k):\n",
        "            inputs, targets = self.make_oneshot_task(N,s)\n",
        "            probs = model.predict(inputs)\n",
        "            if np.argmax(probs) == np.argmax(targets):\n",
        "                n_correct+=1\n",
        "        percent_correct = (100.0*n_correct / k)\n",
        "        if verbose:\n",
        "            print(\"Got an average of {}% {} way one-shot learning accuracy\".format(percent_correct,N))\n",
        "        return percent_correct\n",
        "    \n",
        "    def train(self, model, epochs, verbosity):\n",
        "        model.fit_generator(self.generate(batch_size))"
      ],
      "execution_count": 0,
      "outputs": []
    },
    {
      "cell_type": "code",
      "metadata": {
        "id": "vogtlOAfm_ag",
        "colab_type": "code",
        "colab": {}
      },
      "source": [
        "loader = Siamese_Loader(data)"
      ],
      "execution_count": 0,
      "outputs": []
    },
    {
      "cell_type": "code",
      "metadata": {
        "id": "uHNW4Mw5nBqv",
        "colab_type": "code",
        "colab": {
          "base_uri": "https://localhost:8080/",
          "height": 252
        },
        "outputId": "bde6ec98-97da-4ae4-f53e-e4aa3a32b001"
      },
      "source": [
        "\n",
        "def concat_images(X):\n",
        "    \"\"\"Concatenates a bunch of images into a big matrix for plotting purposes.\"\"\"\n",
        "    nc,w,h,ch = X.shape\n",
        "    n = np.ceil(np.sqrt(nc)).astype(\"int8\")\n",
        "    img = np.zeros((n*w,n*h,3))\n",
        "    x = 0\n",
        "    y = 0\n",
        "    for example in range(nc):\n",
        "        img[x*w:(x+1)*w,y*h:(y+1)*h,:] = X[example]\n",
        "        y += 1\n",
        "        if y >= n:\n",
        "            y = 0\n",
        "            x += 1\n",
        "    return img\n",
        "\n",
        "\n",
        "def plot_oneshot_task(pairs):\n",
        "    \"\"\"Takes a one-shot task given to a siamese net and  \"\"\"\n",
        "    fig,(ax1,ax2) = plt.subplots(2)\n",
        "    ax1.imshow(pairs[0][0].reshape(105,105,3).astype('uint8'))\n",
        "    img = concat_images(pairs[1])\n",
        "    ax1.get_yaxis().set_visible(False)\n",
        "    ax1.get_xaxis().set_visible(False)\n",
        "    ax2.imshow(img.astype('uint8'))\n",
        "    plt.xticks([])\n",
        "    plt.yticks([])\n",
        "    plt.show()\n",
        "#example of a one-shot learning task\n",
        "pairs, targets = loader.make_oneshot_task(10,\"train\")\n",
        "plot_oneshot_task(pairs)\n"
      ],
      "execution_count": 8,
      "outputs": [
        {
          "output_type": "display_data",
          "data": {
            "image/png": "[encoded data removed]",
            "text/plain": [
              "<Figure size 432x288 with 2 Axes>"
            ]
          },
          "metadata": {
            "tags": [],
            "needs_background": "light"
          }
        }
      ]
    },
    {
      "cell_type": "code",
      "metadata": {
        "id": "65NdDecBnTOZ",
        "colab_type": "code",
        "colab": {
          "base_uri": "https://localhost:8080/",
          "height": 1000
        },
        "outputId": "79ecac1a-d605-48b1-fee2-f8448e8ece6c"
      },
      "source": [
        "\n",
        "#Training loop\n",
        "print(\"!\")\n",
        "training_losses = []\n",
        "val_accs = []\n",
        "evaluate_every = 100 # interval for evaluating on one-shot tasks``\n",
        "loss_every=100 # interval for printing loss (iterations)\n",
        "batch_size = 64\n",
        "n_iter = 10000\n",
        "PATH = '/content/gdrive/My Drive'\n",
        "N_way = 15 # how many classes for testing one-shot tasks>\n",
        "n_val = 200 #how mahy one-shot tasks to validate on?\n",
        "best = -1\n",
        "weights_path = os.path.join(PATH, \"weights.h5\")\n",
        "print(\"training\")\n",
        "for i in range(1, n_iter):\n",
        "    (inputs,targets)=loader.get_batch(batch_size)\n",
        "    loss=siamese_net.train_on_batch(inputs,targets)\n",
        "    #print(loss)\n",
        "    if i % evaluate_every == 0:\n",
        "        print(\"evaluating\")\n",
        "        val_acc = loader.test_oneshot(siamese_net,N_way,n_val,verbose=True)\n",
        "        val_accs.append(val_acc)\n",
        "        if val_acc >= best:\n",
        "            #print(\"saving\")\n",
        "            siamese_net.save(weights_path)\n",
        "            best=val_acc\n",
        "\n",
        "    if i % loss_every == 0:\n",
        "        training_losses.append(loss)\n",
        "        print(\"iteration {}, training loss: {:.2f},\".format(i,loss))\n"
      ],
      "execution_count": 9,
      "outputs": [
        {
          "output_type": "stream",
          "text": [
            "!\n",
            "training\n",
            "evaluating\n",
            "Got an average of 22.0% 15 way one-shot learning accuracy\n",
            "iteration 100, training loss: 2.34,\n",
            "evaluating\n",
            "Got an average of 13.0% 15 way one-shot learning accuracy\n",
            "iteration 200, training loss: 2.12,\n",
            "evaluating\n",
            "Got an average of 20.5% 15 way one-shot learning accuracy\n",
            "iteration 300, training loss: 2.01,\n",
            "evaluating\n",
            "Got an average of 14.0% 15 way one-shot learning accuracy\n",
            "iteration 400, training loss: 1.96,\n",
            "evaluating\n",
            "Got an average of 13.5% 15 way one-shot learning accuracy\n",
            "iteration 500, training loss: 1.89,\n",
            "evaluating\n",
            "Got an average of 23.5% 15 way one-shot learning accuracy\n",
            "iteration 600, training loss: 1.84,\n",
            "evaluating\n",
            "Got an average of 21.5% 15 way one-shot learning accuracy\n",
            "iteration 700, training loss: 1.79,\n",
            "evaluating\n",
            "Got an average of 18.5% 15 way one-shot learning accuracy\n",
            "iteration 800, training loss: 1.74,\n",
            "evaluating\n",
            "Got an average of 12.5% 15 way one-shot learning accuracy\n",
            "iteration 900, training loss: 1.69,\n",
            "evaluating\n",
            "Got an average of 19.5% 15 way one-shot learning accuracy\n",
            "iteration 1000, training loss: 1.65,\n",
            "evaluating\n",
            "Got an average of 15.5% 15 way one-shot learning accuracy\n",
            "iteration 1100, training loss: 1.63,\n",
            "evaluating\n",
            "Got an average of 26.5% 15 way one-shot learning accuracy\n",
            "iteration 1200, training loss: 1.58,\n",
            "evaluating\n",
            "Got an average of 24.0% 15 way one-shot learning accuracy\n",
            "iteration 1300, training loss: 1.54,\n",
            "evaluating\n",
            "Got an average of 20.0% 15 way one-shot learning accuracy\n",
            "iteration 1400, training loss: 1.52,\n",
            "evaluating\n",
            "Got an average of 24.5% 15 way one-shot learning accuracy\n",
            "iteration 1500, training loss: 1.48,\n",
            "evaluating\n",
            "Got an average of 21.0% 15 way one-shot learning accuracy\n",
            "iteration 1600, training loss: 1.45,\n",
            "evaluating\n",
            "Got an average of 23.5% 15 way one-shot learning accuracy\n",
            "iteration 1700, training loss: 1.40,\n",
            "evaluating\n",
            "Got an average of 19.5% 15 way one-shot learning accuracy\n",
            "iteration 1800, training loss: 1.40,\n",
            "evaluating\n",
            "Got an average of 20.5% 15 way one-shot learning accuracy\n",
            "iteration 1900, training loss: 1.37,\n",
            "evaluating\n",
            "Got an average of 20.5% 15 way one-shot learning accuracy\n",
            "iteration 2000, training loss: 1.34,\n",
            "evaluating\n",
            "Got an average of 19.5% 15 way one-shot learning accuracy\n",
            "iteration 2100, training loss: 1.34,\n",
            "evaluating\n",
            "Got an average of 25.5% 15 way one-shot learning accuracy\n",
            "iteration 2200, training loss: 1.29,\n",
            "evaluating\n",
            "Got an average of 28.5% 15 way one-shot learning accuracy\n",
            "iteration 2300, training loss: 1.28,\n",
            "evaluating\n",
            "Got an average of 25.0% 15 way one-shot learning accuracy\n",
            "iteration 2400, training loss: 1.26,\n",
            "evaluating\n",
            "Got an average of 23.5% 15 way one-shot learning accuracy\n",
            "iteration 2500, training loss: 1.24,\n",
            "evaluating\n",
            "Got an average of 19.0% 15 way one-shot learning accuracy\n",
            "iteration 2600, training loss: 1.23,\n",
            "evaluating\n",
            "Got an average of 20.0% 15 way one-shot learning accuracy\n",
            "iteration 2700, training loss: 1.20,\n",
            "evaluating\n",
            "Got an average of 19.5% 15 way one-shot learning accuracy\n",
            "iteration 2800, training loss: 1.17,\n",
            "evaluating\n",
            "Got an average of 19.5% 15 way one-shot learning accuracy\n",
            "iteration 2900, training loss: 1.17,\n",
            "evaluating\n",
            "Got an average of 24.5% 15 way one-shot learning accuracy\n",
            "iteration 3000, training loss: 1.16,\n",
            "evaluating\n",
            "Got an average of 21.0% 15 way one-shot learning accuracy\n",
            "iteration 3100, training loss: 1.14,\n"
          ],
          "name": "stdout"
        },
        {
          "output_type": "error",
          "ename": "KeyboardInterrupt",
          "evalue": "ignored",
          "traceback": [
            "\u001b[0;31m---------------------------------------------------------------------------\u001b[0m",
            "\u001b[0;31mKeyboardInterrupt\u001b[0m                         Traceback (most recent call last)",
            "\u001b[0;32m<ipython-input-9-e296cf6b2bb5>\u001b[0m in \u001b[0;36m<module>\u001b[0;34m()\u001b[0m\n\u001b[1;32m     16\u001b[0m \u001b[0;32mfor\u001b[0m \u001b[0mi\u001b[0m \u001b[0;32min\u001b[0m \u001b[0mrange\u001b[0m\u001b[0;34m(\u001b[0m\u001b[0;36m1\u001b[0m\u001b[0;34m,\u001b[0m \u001b[0mn_iter\u001b[0m\u001b[0;34m)\u001b[0m\u001b[0;34m:\u001b[0m\u001b[0;34m\u001b[0m\u001b[0;34m\u001b[0m\u001b[0m\n\u001b[1;32m     17\u001b[0m     \u001b[0;34m(\u001b[0m\u001b[0minputs\u001b[0m\u001b[0;34m,\u001b[0m\u001b[0mtargets\u001b[0m\u001b[0;34m)\u001b[0m\u001b[0;34m=\u001b[0m\u001b[0mloader\u001b[0m\u001b[0;34m.\u001b[0m\u001b[0mget_batch\u001b[0m\u001b[0;34m(\u001b[0m\u001b[0mbatch_size\u001b[0m\u001b[0;34m)\u001b[0m\u001b[0;34m\u001b[0m\u001b[0;34m\u001b[0m\u001b[0m\n\u001b[0;32m---> 18\u001b[0;31m     \u001b[0mloss\u001b[0m\u001b[0;34m=\u001b[0m\u001b[0msiamese_net\u001b[0m\u001b[0;34m.\u001b[0m\u001b[0mtrain_on_batch\u001b[0m\u001b[0;34m(\u001b[0m\u001b[0minputs\u001b[0m\u001b[0;34m,\u001b[0m\u001b[0mtargets\u001b[0m\u001b[0;34m)\u001b[0m\u001b[0;34m\u001b[0m\u001b[0;34m\u001b[0m\u001b[0m\n\u001b[0m\u001b[1;32m     19\u001b[0m     \u001b[0;31m#print(loss)\u001b[0m\u001b[0;34m\u001b[0m\u001b[0;34m\u001b[0m\u001b[0;34m\u001b[0m\u001b[0m\n\u001b[1;32m     20\u001b[0m     \u001b[0;32mif\u001b[0m \u001b[0mi\u001b[0m \u001b[0;34m%\u001b[0m \u001b[0mevaluate_every\u001b[0m \u001b[0;34m==\u001b[0m \u001b[0;36m0\u001b[0m\u001b[0;34m:\u001b[0m\u001b[0;34m\u001b[0m\u001b[0;34m\u001b[0m\u001b[0m\n",
            "\u001b[0;32m/usr/local/lib/python3.6/dist-packages/keras/engine/training.py\u001b[0m in \u001b[0;36mtrain_on_batch\u001b[0;34m(self, x, y, sample_weight, class_weight, reset_metrics)\u001b[0m\n\u001b[1;32m   1512\u001b[0m             \u001b[0mins\u001b[0m \u001b[0;34m=\u001b[0m \u001b[0mx\u001b[0m \u001b[0;34m+\u001b[0m \u001b[0my\u001b[0m \u001b[0;34m+\u001b[0m \u001b[0msample_weights\u001b[0m\u001b[0;34m\u001b[0m\u001b[0;34m\u001b[0m\u001b[0m\n\u001b[1;32m   1513\u001b[0m         \u001b[0mself\u001b[0m\u001b[0;34m.\u001b[0m\u001b[0m_make_train_function\u001b[0m\u001b[0;34m(\u001b[0m\u001b[0;34m)\u001b[0m\u001b[0;34m\u001b[0m\u001b[0;34m\u001b[0m\u001b[0m\n\u001b[0;32m-> 1514\u001b[0;31m         \u001b[0moutputs\u001b[0m \u001b[0;34m=\u001b[0m \u001b[0mself\u001b[0m\u001b[0;34m.\u001b[0m\u001b[0mtrain_function\u001b[0m\u001b[0;34m(\u001b[0m\u001b[0mins\u001b[0m\u001b[0;34m)\u001b[0m\u001b[0;34m\u001b[0m\u001b[0;34m\u001b[0m\u001b[0m\n\u001b[0m\u001b[1;32m   1515\u001b[0m \u001b[0;34m\u001b[0m\u001b[0m\n\u001b[1;32m   1516\u001b[0m         \u001b[0;32mif\u001b[0m \u001b[0mreset_metrics\u001b[0m\u001b[0;34m:\u001b[0m\u001b[0;34m\u001b[0m\u001b[0;34m\u001b[0m\u001b[0m\n",
            "\u001b[0;32m/usr/local/lib/python3.6/dist-packages/tensorflow/python/keras/backend.py\u001b[0m in \u001b[0;36m__call__\u001b[0;34m(self, inputs)\u001b[0m\n\u001b[1;32m   3798\u001b[0m     return nest.pack_sequence_as(\n\u001b[1;32m   3799\u001b[0m         \u001b[0mself\u001b[0m\u001b[0;34m.\u001b[0m\u001b[0m_outputs_structure\u001b[0m\u001b[0;34m,\u001b[0m\u001b[0;34m\u001b[0m\u001b[0;34m\u001b[0m\u001b[0m\n\u001b[0;32m-> 3800\u001b[0;31m         \u001b[0;34m[\u001b[0m\u001b[0mx\u001b[0m\u001b[0;34m.\u001b[0m\u001b[0m_numpy\u001b[0m\u001b[0;34m(\u001b[0m\u001b[0;34m)\u001b[0m \u001b[0;32mfor\u001b[0m \u001b[0mx\u001b[0m \u001b[0;32min\u001b[0m \u001b[0moutputs\u001b[0m\u001b[0;34m]\u001b[0m\u001b[0;34m,\u001b[0m  \u001b[0;31m# pylint: disable=protected-access\u001b[0m\u001b[0;34m\u001b[0m\u001b[0;34m\u001b[0m\u001b[0m\n\u001b[0m\u001b[1;32m   3801\u001b[0m         expand_composites=True)\n\u001b[1;32m   3802\u001b[0m \u001b[0;34m\u001b[0m\u001b[0m\n",
            "\u001b[0;32m/usr/local/lib/python3.6/dist-packages/tensorflow/python/keras/backend.py\u001b[0m in \u001b[0;36m<listcomp>\u001b[0;34m(.0)\u001b[0m\n\u001b[1;32m   3798\u001b[0m     return nest.pack_sequence_as(\n\u001b[1;32m   3799\u001b[0m         \u001b[0mself\u001b[0m\u001b[0;34m.\u001b[0m\u001b[0m_outputs_structure\u001b[0m\u001b[0;34m,\u001b[0m\u001b[0;34m\u001b[0m\u001b[0;34m\u001b[0m\u001b[0m\n\u001b[0;32m-> 3800\u001b[0;31m         \u001b[0;34m[\u001b[0m\u001b[0mx\u001b[0m\u001b[0;34m.\u001b[0m\u001b[0m_numpy\u001b[0m\u001b[0;34m(\u001b[0m\u001b[0;34m)\u001b[0m \u001b[0;32mfor\u001b[0m \u001b[0mx\u001b[0m \u001b[0;32min\u001b[0m \u001b[0moutputs\u001b[0m\u001b[0;34m]\u001b[0m\u001b[0;34m,\u001b[0m  \u001b[0;31m# pylint: disable=protected-access\u001b[0m\u001b[0;34m\u001b[0m\u001b[0;34m\u001b[0m\u001b[0m\n\u001b[0m\u001b[1;32m   3801\u001b[0m         expand_composites=True)\n\u001b[1;32m   3802\u001b[0m \u001b[0;34m\u001b[0m\u001b[0m\n",
            "\u001b[0;32m/usr/local/lib/python3.6/dist-packages/tensorflow/python/framework/ops.py\u001b[0m in \u001b[0;36m_numpy\u001b[0;34m(self)\u001b[0m\n\u001b[1;32m    925\u001b[0m     \u001b[0;31m# pylint: disable=protected-access\u001b[0m\u001b[0;34m\u001b[0m\u001b[0;34m\u001b[0m\u001b[0;34m\u001b[0m\u001b[0m\n\u001b[1;32m    926\u001b[0m     \u001b[0;32mtry\u001b[0m\u001b[0;34m:\u001b[0m\u001b[0;34m\u001b[0m\u001b[0;34m\u001b[0m\u001b[0m\n\u001b[0;32m--> 927\u001b[0;31m       \u001b[0;32mreturn\u001b[0m \u001b[0mself\u001b[0m\u001b[0;34m.\u001b[0m\u001b[0m_numpy_internal\u001b[0m\u001b[0;34m(\u001b[0m\u001b[0;34m)\u001b[0m\u001b[0;34m\u001b[0m\u001b[0;34m\u001b[0m\u001b[0m\n\u001b[0m\u001b[1;32m    928\u001b[0m     \u001b[0;32mexcept\u001b[0m \u001b[0mcore\u001b[0m\u001b[0;34m.\u001b[0m\u001b[0m_NotOkStatusException\u001b[0m \u001b[0;32mas\u001b[0m \u001b[0me\u001b[0m\u001b[0;34m:\u001b[0m\u001b[0;34m\u001b[0m\u001b[0;34m\u001b[0m\u001b[0m\n\u001b[1;32m    929\u001b[0m       \u001b[0msix\u001b[0m\u001b[0;34m.\u001b[0m\u001b[0mraise_from\u001b[0m\u001b[0;34m(\u001b[0m\u001b[0mcore\u001b[0m\u001b[0;34m.\u001b[0m\u001b[0m_status_to_exception\u001b[0m\u001b[0;34m(\u001b[0m\u001b[0me\u001b[0m\u001b[0;34m.\u001b[0m\u001b[0mcode\u001b[0m\u001b[0;34m,\u001b[0m \u001b[0me\u001b[0m\u001b[0;34m.\u001b[0m\u001b[0mmessage\u001b[0m\u001b[0;34m)\u001b[0m\u001b[0;34m,\u001b[0m \u001b[0;32mNone\u001b[0m\u001b[0;34m)\u001b[0m\u001b[0;34m\u001b[0m\u001b[0;34m\u001b[0m\u001b[0m\n",
            "\u001b[0;31mKeyboardInterrupt\u001b[0m: "
          ]
        }
      ]
    },
    {
      "cell_type": "code",
      "metadata": {
        "id": "BhC0aH_GnXb-",
        "colab_type": "code",
        "colab": {}
      },
      "source": [
        "iters = range(100,10000,100)\n",
        "plt.plot(iters,training_losses,'bo')"
      ],
      "execution_count": 0,
      "outputs": []
    },
    {
      "cell_type": "code",
      "metadata": {
        "id": "MJBkh0ofnZoX",
        "colab_type": "code",
        "colab": {}
      },
      "source": [
        "plt.plot(iters,val_accs,'b-')"
      ],
      "execution_count": 0,
      "outputs": []
    },
    {
      "cell_type": "code",
      "metadata": {
        "id": "7do2ULFXnbnz",
        "colab_type": "code",
        "colab": {}
      },
      "source": [
        "\n",
        "ways = np.arange(1, 16, 1)\n",
        "resume =  False\n",
        "val_accs, train_accs = [], []\n",
        "trials = 500\n",
        "for N in ways:\n",
        "    val_accs.append(loader.test_oneshot(siamese_net, N,trials, \"val\", verbose=True))\n",
        "    train_accs.append(loader.test_oneshot(siamese_net, N,trials, \"train\", verbose=True))\n",
        "    \n",
        "#plot the accuracy vs num categories for each\n",
        "plt.plot(ways, val_accs, \"m\")\n",
        "plt.plot(ways, train_accs, \"y\")\n",
        "plt.show()"
      ],
      "execution_count": 0,
      "outputs": []
    },
    {
      "cell_type": "code",
      "metadata": {
        "id": "0VitpmxtneLo",
        "colab_type": "code",
        "colab": {}
      },
      "source": [
        "fig,ax = plt.subplots(1)\n",
        "ax.plot(ways,val_accs,\"m\",label=\"Siamese(val set)\")\n",
        "ax.plot(ways,train_accs,\"y\",label=\"Siamese(train set)\")\n",
        "\n",
        "plt.xlabel(\"Number of possible classes in one-shot tasks\")\n",
        "plt.ylabel(\"% Accuracy\")\n",
        "plt.title(\"Siamese Neural Network performance on hand gesture classification\")\n",
        "box = ax.get_position()\n",
        "ax.set_position([box.x0, box.y0, box.width * 0.8, box.height])\n",
        "ax.legend(loc='center left', bbox_to_anchor=(1, 0.5))\n",
        "inputs,targets = loader.make_oneshot_task(15,\"val\")\n",
        "plt.show()\n",
        "\n",
        "print(inputs[0].shape)\n",
        "plot_oneshot_task(inputs)\n",
        "p=siamese_net.predict(inputs)\n",
        "print(p)"
      ],
      "execution_count": 0,
      "outputs": []
    }
  ]
}