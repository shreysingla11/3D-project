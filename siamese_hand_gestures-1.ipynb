{
  "nbformat": 4,
  "nbformat_minor": 0,
  "metadata": {
    "kernelspec": {
      "display_name": "Python 3",
      "language": "python",
      "name": "python3"
    },
    "language_info": {
      "codemirror_mode": {
        "name": "ipython",
        "version": 3
      },
      "file_extension": ".py",
      "mimetype": "text/x-python",
      "name": "python",
      "nbconvert_exporter": "python",
      "pygments_lexer": "ipython3",
      "version": "3.7.6"
    },
    "colab": {
      "name": "siamese_hand_gestures.ipynb",
      "provenance": [],
      "include_colab_link": true
    },
    "accelerator": "GPU"
  },
  "cells": [
    {
      "cell_type": "markdown",
      "metadata": {
        "id": "view-in-github",
        "colab_type": "text"
      },
      "source": [
        "<a href=\"https://colab.research.google.com/github/shreysingla11/3D-project/blob/master/siamese_hand_gestures-1.ipynb\" target=\"_parent\"><img src=\"https://colab.research.google.com/assets/colab-badge.svg\" alt=\"Open In Colab\"/></a>"
      ]
    },
    {
      "cell_type": "code",
      "metadata": {
        "id": "CEXA7Bc9Rz2Y",
        "colab_type": "code",
        "colab": {
          "base_uri": "https://localhost:8080/",
          "height": 357
        },
        "outputId": "48462a0b-4739-4a6e-8df2-ebddca810ae9"
      },
      "source": [
        "from keras.layers import Input, Conv2D, Lambda, merge, Dense, Flatten,MaxPooling2D\n",
        "from keras.models import Model, Sequential\n",
        "from keras.regularizers import l2\n",
        "from keras import backend as K\n",
        "from keras.optimizers import SGD,Adam\n",
        "from keras.losses import binary_crossentropy\n",
        "import numpy.random as rng\n",
        "import matplotlib.pyplot as plt\n",
        "import cv2\n",
        "import numpy as np\n",
        "import os\n",
        "import pickle\n",
        "import matplotlib.pyplot as plt\n",
        "#import seaborn as sns\n",
        "from sklearn.utils import shuffle\n",
        "%matplotlib inline\n",
        "def W_init(shape,dtype=None):\n",
        "    \"\"\"Initialize weights as in paper\"\"\"\n",
        "    values = rng.normal(loc=0,scale=1e-2,size=shape)\n",
        "    return K.variable(values,dtype=dtype)\n",
        "#//TODO: figure out how to initialize layer biases in keras.\n",
        "def b_init(shape,dtype=None):\n",
        "    \"\"\"Initialize bias as in paper\"\"\"\n",
        "    values=rng.normal(loc=0.5,scale=1e-2,size=shape)\n",
        "    return K.variable(values,dtype=dtype)\n",
        "\n",
        "input_shape = (105, 105, 3)\n",
        "left_input = Input(input_shape)\n",
        "right_input = Input(input_shape)\n",
        "#build convnet to use in each siamese 'leg'\n",
        "convnet = Sequential()\n",
        "convnet.add(Conv2D(64,(10,10),activation='relu',input_shape=input_shape,\n",
        "                   kernel_initializer=W_init,kernel_regularizer=l2(2e-4)))\n",
        "convnet.add(MaxPooling2D())\n",
        "convnet.add(Conv2D(128,(7,7),activation='relu',\n",
        "                   kernel_regularizer=l2(2e-4),kernel_initializer=W_init,bias_initializer=b_init))\n",
        "convnet.add(MaxPooling2D())\n",
        "convnet.add(Conv2D(128,(4,4),activation='relu',kernel_initializer=W_init,kernel_regularizer=l2(2e-4),bias_initializer=b_init))\n",
        "convnet.add(MaxPooling2D())\n",
        "convnet.add(Conv2D(256,(4,4),activation='relu',kernel_initializer=W_init,kernel_regularizer=l2(2e-4),bias_initializer=b_init))\n",
        "#convnet.add(MaxPooling2D())\n",
        "convnet.add(Flatten())\n",
        "convnet.add(Dense(2048,activation=\"sigmoid\",kernel_regularizer=l2(1e-3),kernel_initializer=W_init,bias_initializer=b_init))\n",
        "\n",
        "#call the convnet Sequential model on each of the input tensors so params will be shared\n",
        "encoded_l = convnet(left_input)\n",
        "encoded_r = convnet(right_input)\n",
        "#layer to merge two encoded inputs with the l1 distance between them\n",
        "L1_layer = Lambda(lambda tensors:K.abs(tensors[0] - tensors[1]))\n",
        "#call this layer on list of two input tensors.\n",
        "L1_distance = L1_layer([encoded_l, encoded_r])\n",
        "prediction = Dense(1,activation='sigmoid',bias_initializer=b_init)(L1_distance)\n",
        "siamese_net = Model(inputs=[left_input,right_input],outputs=prediction)\n",
        "\n",
        "optimizer = Adam(0.00003)\n",
        "#//TODO: get layerwise learning rates and momentum annealing scheme described in paperworking\n",
        "siamese_net.compile(loss=\"binary_crossentropy\",optimizer=optimizer)\n",
        "\n",
        "siamese_net.summary()\n"
      ],
      "execution_count": 93,
      "outputs": [
        {
          "output_type": "stream",
          "text": [
            "Model: \"model_8\"\n",
            "__________________________________________________________________________________________________\n",
            "Layer (type)                    Output Shape         Param #     Connected to                     \n",
            "==================================================================================================\n",
            "input_15 (InputLayer)           (None, 105, 105, 3)  0                                            \n",
            "__________________________________________________________________________________________________\n",
            "input_16 (InputLayer)           (None, 105, 105, 3)  0                                            \n",
            "__________________________________________________________________________________________________\n",
            "sequential_8 (Sequential)       (None, 2048)         20084032    input_15[0][0]                   \n",
            "                                                                 input_16[0][0]                   \n",
            "__________________________________________________________________________________________________\n",
            "lambda_8 (Lambda)               (None, 2048)         0           sequential_8[1][0]               \n",
            "                                                                 sequential_8[2][0]               \n",
            "__________________________________________________________________________________________________\n",
            "dense_16 (Dense)                (None, 1)            2049        lambda_8[0][0]                   \n",
            "==================================================================================================\n",
            "Total params: 20,086,081\n",
            "Trainable params: 20,086,081\n",
            "Non-trainable params: 0\n",
            "__________________________________________________________________________________________________\n"
          ],
          "name": "stdout"
        }
      ]
    },
    {
      "cell_type": "code",
      "metadata": {
        "id": "MXoRc8vESQEM",
        "colab_type": "code",
        "colab": {
          "base_uri": "https://localhost:8080/",
          "height": 34
        },
        "outputId": "d26e2216-4fff-498d-ea19-960801e83611"
      },
      "source": [
        "import tensorflow as tf\n",
        "tf.test.gpu_device_name()"
      ],
      "execution_count": 94,
      "outputs": [
        {
          "output_type": "execute_result",
          "data": {
            "text/plain": [
              "'/device:GPU:0'"
            ]
          },
          "metadata": {
            "tags": []
          },
          "execution_count": 94
        }
      ]
    },
    {
      "cell_type": "code",
      "metadata": {
        "id": "u7f2YgQ8R1qV",
        "colab_type": "code",
        "colab": {
          "base_uri": "https://localhost:8080/",
          "height": 34
        },
        "outputId": "168392f8-61d9-4cdf-cad4-0501c42d0b28"
      },
      "source": [
        "from google.colab import drive\n",
        "drive.mount('/content/gdrive')"
      ],
      "execution_count": 95,
      "outputs": [
        {
          "output_type": "stream",
          "text": [
            "Drive already mounted at /content/gdrive; to attempt to forcibly remount, call drive.mount(\"/content/gdrive\", force_remount=True).\n"
          ],
          "name": "stdout"
        }
      ]
    },
    {
      "cell_type": "code",
      "metadata": {
        "id": "c8QZaPMpRz2b",
        "colab_type": "code",
        "colab": {}
      },
      "source": [
        "\n",
        "data_path = '/content/gdrive/My Drive/Handgestures-15'\n",
        "train_path = os.path.join(data_path,'train')\n",
        "valid_path = os.path.join(data_path,'valid')\n",
        "\n",
        "def loadimgs(path):\n",
        "    if path == '/content/gdrive/My Drive/Handgestures-15/train':\n",
        "        X = np.zeros((15,50,105,105,3))\n",
        "    else:\n",
        "        X = np.zeros((15,16,105,105,3))\n",
        "    labels = {}\n",
        "    for i,name in enumerate(os.listdir(path)):\n",
        "        print(i)\n",
        "        class_path = os.path.join(path,name)\n",
        "        labels[name] = i\n",
        "        for j,f in enumerate(os.listdir(class_path)):\n",
        "            img_path = os.path.join(class_path,f)\n",
        "            img = cv2.imread(img_path)\n",
        "            X[i,j,:,:,:] = img\n",
        "    return X,labels"
      ],
      "execution_count": 0,
      "outputs": []
    },
    {
      "cell_type": "code",
      "metadata": {
        "id": "Pdh4-PLLRz2d",
        "colab_type": "code",
        "colab": {
          "base_uri": "https://localhost:8080/",
          "height": 550
        },
        "outputId": "b17a3364-16a6-4155-b106-e4e74a603691"
      },
      "source": [
        "X,c = loadimgs(train_path)\n",
        "Xval,cval = loadimgs(valid_path)\n",
        "data = [X,c,Xval,cval]"
      ],
      "execution_count": 97,
      "outputs": [
        {
          "output_type": "stream",
          "text": [
            "0\n",
            "1\n",
            "2\n",
            "3\n",
            "4\n",
            "5\n",
            "6\n",
            "7\n",
            "8\n",
            "9\n",
            "10\n",
            "11\n",
            "12\n",
            "13\n",
            "14\n",
            "0\n",
            "1\n",
            "2\n",
            "3\n",
            "4\n",
            "5\n",
            "6\n",
            "7\n",
            "8\n",
            "9\n",
            "10\n",
            "11\n",
            "12\n",
            "13\n",
            "14\n"
          ],
          "name": "stdout"
        }
      ]
    },
    {
      "cell_type": "code",
      "metadata": {
        "id": "X63iu8JrRz2f",
        "colab_type": "code",
        "colab": {}
      },
      "source": [
        "class Siamese_Loader:\n",
        "    \"\"\"For loading batches and testing tasks to a siamese net\"\"\"\n",
        "    def __init__(self,data):\n",
        "        self.data = {}\n",
        "        self.categories = {}\n",
        "        self.info = {}\n",
        "        self.data['train'] = data[0]\n",
        "        self.categories['train'] = data[1]\n",
        "        self.data['val'] = data[2]\n",
        "        self.categories['val'] = data[3]\n",
        "        \n",
        "    def get_batch(self,batch_size,s=\"train\"):\n",
        "        \"\"\"Create batch of n pairs, half same class, half different class\"\"\"\n",
        "        X=self.data[s]\n",
        "        n_classes, n_examples, w, h ,ch = X.shape\n",
        "\n",
        "        #randomly sample several classes to use in the batch\n",
        "        categories = rng.choice(n_classes,size=(batch_size,),replace=True)\n",
        "        #initialize 2 empty arrays for the input image batch\n",
        "        pairs=[np.zeros((batch_size, h, w, 3)) for i in range(2)]\n",
        "        #initialize vector for the targets, and make one half of it '1's, so 2nd half of batch has same class\n",
        "        targets=np.zeros((batch_size,))\n",
        "        targets[batch_size//2:] = 1\n",
        "        for i in range(batch_size):\n",
        "            category = categories[i]\n",
        "            idx_1 = rng.randint(0, n_examples)\n",
        "            pairs[0][i,:,:,:] = X[category, idx_1].reshape(w, h, 3)\n",
        "            idx_2 = rng.randint(0, n_examples)\n",
        "            #pick images of same class for 1st half, different for 2nd\n",
        "            if i >= batch_size // 2:\n",
        "                category_2 = category  \n",
        "            else: \n",
        "                #add a random number to the category modulo n classes to ensure 2nd image has\n",
        "                # ..different category\n",
        "                category_2 = (category + rng.randint(1,n_classes)) % n_classes\n",
        "            pairs[1][i,:,:,:] = X[category_2,idx_2].reshape(w, h, 3)\n",
        "        return pairs, targets    \n",
        "\n",
        "    \n",
        "    def generate(self, batch_size, s=\"train\"):\n",
        "        \"\"\"a generator for batches, so model.fit_generator can be used. \"\"\"\n",
        "        while True:\n",
        "            pairs, targets = self.get_batch(batch_size,s)\n",
        "            yield (pairs, targets)    \n",
        "\n",
        "    def make_oneshot_task(self,N,s=\"val\"):\n",
        "        if N>15:\n",
        "            print('exceeds number of classes')\n",
        "            return\n",
        "        else:\n",
        "            X = self.data[s]\n",
        "            n_classes,n_examples,w,h,c = X.shape\n",
        "            indices = rng.randint(0,n_examples,size=(N,))\n",
        "            categories = rng.randint(0,n_classes,size=(N,))\n",
        "            true_category = categories[0]\n",
        "            ex1,ex2 = rng.choice(n_examples,replace=False,size=(2,))\n",
        "            test_image = np.asarray([X[true_category,ex1,:,:,:]]*N).reshape(N,w,h,3)\n",
        "            support_set = X[categories,indices,:,:,:]\n",
        "            support_set[0,:,:,:] = X[true_category,ex2]\n",
        "            support_set = support_set.reshape(N,w,h,3)\n",
        "            targets = np.zeros((N,))\n",
        "            targets[0] = 1\n",
        "            targets, test_image, support_set = shuffle(targets, test_image, support_set)\n",
        "            pairs = [test_image,support_set]\n",
        "            return pairs, targets\n",
        "        \n",
        "    def test_oneshot(self,model,N,k,s=\"val\",verbose=0):\n",
        "        \"\"\"Test average N way oneshot learning accuracy of a siamese neural net over k one-shot tasks\"\"\"\n",
        "        n_correct = 0\n",
        "        if verbose:\n",
        "            pass\n",
        "            #print(\"Evaluating model on {} random {} way one-shot learning tasks ...\".format(k,N))\n",
        "        for i in range(k):\n",
        "            inputs, targets = self.make_oneshot_task(N,s)\n",
        "            probs = model.predict(inputs)\n",
        "            if np.argmax(probs) == np.argmax(targets):\n",
        "                n_correct+=1\n",
        "        percent_correct = (100.0*n_correct / k)\n",
        "        if verbose:\n",
        "            print(\"Got an average of {}% {} way one-shot learning accuracy\".format(percent_correct,N))\n",
        "        return percent_correct\n",
        "    \n",
        "    def train(self, model, epochs, verbosity):\n",
        "        model.fit_generator(self.generate(batch_size))"
      ],
      "execution_count": 0,
      "outputs": []
    },
    {
      "cell_type": "code",
      "metadata": {
        "id": "jCSUcPYSRz2h",
        "colab_type": "code",
        "colab": {}
      },
      "source": [
        "loader = Siamese_Loader(data)"
      ],
      "execution_count": 0,
      "outputs": []
    },
    {
      "cell_type": "code",
      "metadata": {
        "id": "l5xNnLviRz2j",
        "colab_type": "code",
        "colab": {
          "base_uri": "https://localhost:8080/",
          "height": 252
        },
        "outputId": "3a3e3e6f-a126-4ec7-e93f-92e5c43a9e59"
      },
      "source": [
        "\n",
        "def concat_images(X):\n",
        "    \"\"\"Concatenates a bunch of images into a big matrix for plotting purposes.\"\"\"\n",
        "    nc,w,h,ch = X.shape\n",
        "    n = np.ceil(np.sqrt(nc)).astype(\"int8\")\n",
        "    img = np.zeros((n*w,n*h,3))\n",
        "    x = 0\n",
        "    y = 0\n",
        "    for example in range(nc):\n",
        "        img[x*w:(x+1)*w,y*h:(y+1)*h,:] = X[example]\n",
        "        y += 1\n",
        "        if y >= n:\n",
        "            y = 0\n",
        "            x += 1\n",
        "    return img\n",
        "\n",
        "\n",
        "def plot_oneshot_task(pairs):\n",
        "    \"\"\"Takes a one-shot task given to a siamese net and  \"\"\"\n",
        "    fig,(ax1,ax2) = plt.subplots(2)\n",
        "    ax1.imshow(pairs[0][0].reshape(105,105,3).astype('uint8'))\n",
        "    img = concat_images(pairs[1])\n",
        "    ax1.get_yaxis().set_visible(False)\n",
        "    ax1.get_xaxis().set_visible(False)\n",
        "    ax2.imshow(img.astype('uint8'))\n",
        "    plt.xticks([])\n",
        "    plt.yticks([])\n",
        "    plt.show()\n",
        "#example of a one-shot learning task\n",
        "pairs, targets = loader.make_oneshot_task(10,\"train\")\n",
        "plot_oneshot_task(pairs)\n"
      ],
      "execution_count": 100,
      "outputs": [
        {
          "output_type": "display_data",
          "data": {
            "image/png": "[encoded data removed]",
            "text/plain": [
              "<Figure size 432x288 with 2 Axes>"
            ]
          },
          "metadata": {
            "tags": [],
            "needs_background": "light"
          }
        }
      ]
    },
    {
      "cell_type": "code",
      "metadata": {
        "id": "y_GA7NMsRz2l",
        "colab_type": "code",
        "colab": {}
      },
      "source": [
        "pairs,targets = loader.get_batch(batch_size=32)"
      ],
      "execution_count": 0,
      "outputs": []
    },
    {
      "cell_type": "code",
      "metadata": {
        "id": "N_gtCrC3Rz2n",
        "colab_type": "code",
        "colab": {
          "base_uri": "https://localhost:8080/",
          "height": 52
        },
        "outputId": "a2e96ae4-2c0f-4292-c496-8df2094ecc71"
      },
      "source": [
        "targets"
      ],
      "execution_count": 102,
      "outputs": [
        {
          "output_type": "execute_result",
          "data": {
            "text/plain": [
              "array([0., 0., 0., 0., 0., 0., 0., 0., 0., 0., 0., 0., 0., 0., 0., 0., 1.,\n",
              "       1., 1., 1., 1., 1., 1., 1., 1., 1., 1., 1., 1., 1., 1., 1.])"
            ]
          },
          "metadata": {
            "tags": []
          },
          "execution_count": 102
        }
      ]
    },
    {
      "cell_type": "code",
      "metadata": {
        "id": "WuLRSkgZRz2p",
        "colab_type": "code",
        "colab": {}
      },
      "source": [
        "\n",
        "def plot_oneshot_task_2(pairs):\n",
        "    \"\"\"Takes a one-shot task given to a siamese net and  \"\"\"\n",
        "    fig,(ax1,ax2) = plt.subplots(2)\n",
        "    img1 = concat_images(pairs[0])\n",
        "    img2 = concat_images(pairs[1])\n",
        "    ax1.matshow(img1.astype('uint8'))\n",
        "    ax1.get_yaxis().set_visible(False)\n",
        "    ax1.get_xaxis().set_visible(False)\n",
        "    ax2.matshow(img2.astype('uint8'))\n",
        "    plt.xticks([])\n",
        "    plt.yticks([])\n",
        "    plt.show()"
      ],
      "execution_count": 0,
      "outputs": []
    },
    {
      "cell_type": "code",
      "metadata": {
        "id": "n_IEKmTJRz2r",
        "colab_type": "code",
        "colab": {
          "base_uri": "https://localhost:8080/",
          "height": 254
        },
        "outputId": "0b7ff99d-115c-43ef-d0df-c9a2aeebccbc"
      },
      "source": [
        "plot_oneshot_task_2(pairs)\n"
      ],
      "execution_count": 104,
      "outputs": [
        {
          "output_type": "display_data",
          "data": {
            "image/png": "[encoded data removed]",
            "text/plain": [
              "<Figure size 432x288 with 2 Axes>"
            ]
          },
          "metadata": {
            "tags": [],
            "needs_background": "light"
          }
        }
      ]
    },
    {
      "cell_type": "code",
      "metadata": {
        "id": "yTdUkBqKRz2t",
        "colab_type": "code",
        "colab": {
          "base_uri": "https://localhost:8080/",
          "height": 1000
        },
        "outputId": "a4030f97-41de-4040-cf4b-008c3e332dbc"
      },
      "source": [
        "\n",
        "#Training loop\n",
        "print(\"!\")\n",
        "training_losses = []\n",
        "val_accs = []\n",
        "evaluate_every = 100 # interval for evaluating on one-shot tasks``\n",
        "loss_every=100 # interval for printing loss (iterations)\n",
        "batch_size = 32\n",
        "n_iter = 10000\n",
        "PATH = '/content/gdrive/My Drive'\n",
        "N_way = 15 # how many classes for testing one-shot tasks>\n",
        "n_val = 200 #how mahy one-shot tasks to validate on?\n",
        "best = -1\n",
        "weights_path = os.path.join(PATH, \"weights.h5\")\n",
        "print(\"training\")\n",
        "for i in range(1, n_iter):\n",
        "    (inputs,targets)=loader.get_batch(batch_size)\n",
        "    loss=siamese_net.train_on_batch(inputs,targets)\n",
        "    #print(loss)\n",
        "    if i % evaluate_every == 0:\n",
        "        print(\"evaluating\")\n",
        "        val_acc = loader.test_oneshot(siamese_net,N_way,n_val,verbose=True)\n",
        "        val_accs.append(val_acc)\n",
        "        if val_acc >= best:\n",
        "            #print(\"saving\")\n",
        "            siamese_net.save(weights_path)\n",
        "            best=val_acc\n",
        "\n",
        "    if i % loss_every == 0:\n",
        "        training_losses.append(loss)\n",
        "        print(\"iteration {}, training loss: {:.2f},\".format(i,loss))\n"
      ],
      "execution_count": 105,
      "outputs": [
        {
          "output_type": "stream",
          "text": [
            "!\n",
            "training\n",
            "evaluating\n",
            "Got an average of 31.0% 15 way one-shot learning accuracy\n",
            "iteration 100, training loss: 2.15,\n",
            "evaluating\n",
            "Got an average of 31.5% 15 way one-shot learning accuracy\n",
            "iteration 200, training loss: 1.66,\n",
            "evaluating\n",
            "Got an average of 44.0% 15 way one-shot learning accuracy\n",
            "iteration 300, training loss: 1.40,\n",
            "evaluating\n",
            "Got an average of 54.5% 15 way one-shot learning accuracy\n",
            "iteration 400, training loss: 1.23,\n",
            "evaluating\n",
            "Got an average of 51.5% 15 way one-shot learning accuracy\n",
            "iteration 500, training loss: 1.03,\n",
            "evaluating\n",
            "Got an average of 48.5% 15 way one-shot learning accuracy\n",
            "iteration 600, training loss: 1.03,\n",
            "evaluating\n",
            "Got an average of 53.5% 15 way one-shot learning accuracy\n",
            "iteration 700, training loss: 0.93,\n",
            "evaluating\n",
            "Got an average of 61.5% 15 way one-shot learning accuracy\n",
            "iteration 800, training loss: 1.00,\n",
            "evaluating\n",
            "Got an average of 66.5% 15 way one-shot learning accuracy\n",
            "iteration 900, training loss: 0.82,\n",
            "evaluating\n",
            "Got an average of 62.0% 15 way one-shot learning accuracy\n",
            "iteration 1000, training loss: 0.76,\n",
            "evaluating\n",
            "Got an average of 61.5% 15 way one-shot learning accuracy\n",
            "iteration 1100, training loss: 0.85,\n",
            "evaluating\n",
            "Got an average of 68.0% 15 way one-shot learning accuracy\n",
            "iteration 1200, training loss: 0.70,\n",
            "evaluating\n",
            "Got an average of 65.0% 15 way one-shot learning accuracy\n",
            "iteration 1300, training loss: 0.66,\n",
            "evaluating\n",
            "Got an average of 65.0% 15 way one-shot learning accuracy\n",
            "iteration 1400, training loss: 0.64,\n",
            "evaluating\n",
            "Got an average of 66.0% 15 way one-shot learning accuracy\n",
            "iteration 1500, training loss: 0.61,\n",
            "evaluating\n",
            "Got an average of 66.5% 15 way one-shot learning accuracy\n",
            "iteration 1600, training loss: 0.65,\n",
            "evaluating\n",
            "Got an average of 71.0% 15 way one-shot learning accuracy\n",
            "iteration 1700, training loss: 0.57,\n",
            "evaluating\n",
            "Got an average of 58.0% 15 way one-shot learning accuracy\n",
            "iteration 1800, training loss: 0.55,\n",
            "evaluating\n",
            "Got an average of 70.5% 15 way one-shot learning accuracy\n",
            "iteration 1900, training loss: 0.52,\n",
            "evaluating\n",
            "Got an average of 61.5% 15 way one-shot learning accuracy\n",
            "iteration 2000, training loss: 0.52,\n",
            "evaluating\n",
            "Got an average of 64.0% 15 way one-shot learning accuracy\n",
            "iteration 2100, training loss: 0.47,\n",
            "evaluating\n",
            "Got an average of 66.5% 15 way one-shot learning accuracy\n",
            "iteration 2200, training loss: 0.47,\n",
            "evaluating\n",
            "Got an average of 65.5% 15 way one-shot learning accuracy\n",
            "iteration 2300, training loss: 0.44,\n",
            "evaluating\n",
            "Got an average of 62.0% 15 way one-shot learning accuracy\n",
            "iteration 2400, training loss: 0.41,\n",
            "evaluating\n",
            "Got an average of 63.5% 15 way one-shot learning accuracy\n",
            "iteration 2500, training loss: 0.41,\n",
            "evaluating\n",
            "Got an average of 67.5% 15 way one-shot learning accuracy\n",
            "iteration 2600, training loss: 0.40,\n",
            "evaluating\n",
            "Got an average of 70.5% 15 way one-shot learning accuracy\n",
            "iteration 2700, training loss: 0.36,\n",
            "evaluating\n",
            "Got an average of 66.0% 15 way one-shot learning accuracy\n",
            "iteration 2800, training loss: 0.35,\n",
            "evaluating\n",
            "Got an average of 63.5% 15 way one-shot learning accuracy\n",
            "iteration 2900, training loss: 0.33,\n",
            "evaluating\n",
            "Got an average of 62.0% 15 way one-shot learning accuracy\n",
            "iteration 3000, training loss: 0.31,\n",
            "evaluating\n",
            "Got an average of 66.0% 15 way one-shot learning accuracy\n",
            "iteration 3100, training loss: 0.29,\n",
            "evaluating\n",
            "Got an average of 70.5% 15 way one-shot learning accuracy\n",
            "iteration 3200, training loss: 0.28,\n",
            "evaluating\n",
            "Got an average of 66.5% 15 way one-shot learning accuracy\n",
            "iteration 3300, training loss: 0.26,\n",
            "evaluating\n",
            "Got an average of 66.0% 15 way one-shot learning accuracy\n",
            "iteration 3400, training loss: 0.26,\n",
            "evaluating\n",
            "Got an average of 63.5% 15 way one-shot learning accuracy\n",
            "iteration 3500, training loss: 0.24,\n",
            "evaluating\n",
            "Got an average of 67.5% 15 way one-shot learning accuracy\n",
            "iteration 3600, training loss: 0.23,\n",
            "evaluating\n",
            "Got an average of 65.0% 15 way one-shot learning accuracy\n",
            "iteration 3700, training loss: 0.23,\n",
            "evaluating\n",
            "Got an average of 61.0% 15 way one-shot learning accuracy\n",
            "iteration 3800, training loss: 0.21,\n",
            "evaluating\n",
            "Got an average of 70.0% 15 way one-shot learning accuracy\n",
            "iteration 3900, training loss: 0.19,\n",
            "evaluating\n",
            "Got an average of 62.0% 15 way one-shot learning accuracy\n",
            "iteration 4000, training loss: 0.20,\n",
            "evaluating\n",
            "Got an average of 68.5% 15 way one-shot learning accuracy\n",
            "iteration 4100, training loss: 0.18,\n",
            "evaluating\n",
            "Got an average of 65.0% 15 way one-shot learning accuracy\n",
            "iteration 4200, training loss: 0.17,\n",
            "evaluating\n",
            "Got an average of 70.5% 15 way one-shot learning accuracy\n",
            "iteration 4300, training loss: 0.14,\n",
            "evaluating\n",
            "Got an average of 70.5% 15 way one-shot learning accuracy\n",
            "iteration 4400, training loss: 0.17,\n",
            "evaluating\n",
            "Got an average of 66.5% 15 way one-shot learning accuracy\n",
            "iteration 4500, training loss: 0.19,\n",
            "evaluating\n",
            "Got an average of 65.5% 15 way one-shot learning accuracy\n",
            "iteration 4600, training loss: 0.17,\n",
            "evaluating\n",
            "Got an average of 68.5% 15 way one-shot learning accuracy\n",
            "iteration 4700, training loss: 0.14,\n",
            "evaluating\n",
            "Got an average of 64.0% 15 way one-shot learning accuracy\n",
            "iteration 4800, training loss: 0.13,\n",
            "evaluating\n",
            "Got an average of 68.5% 15 way one-shot learning accuracy\n",
            "iteration 4900, training loss: 0.12,\n",
            "evaluating\n",
            "Got an average of 67.0% 15 way one-shot learning accuracy\n",
            "iteration 5000, training loss: 0.12,\n",
            "evaluating\n",
            "Got an average of 65.0% 15 way one-shot learning accuracy\n",
            "iteration 5100, training loss: 0.12,\n",
            "evaluating\n",
            "Got an average of 70.0% 15 way one-shot learning accuracy\n",
            "iteration 5200, training loss: 0.10,\n",
            "evaluating\n",
            "Got an average of 65.5% 15 way one-shot learning accuracy\n",
            "iteration 5300, training loss: 0.10,\n",
            "evaluating\n",
            "Got an average of 68.0% 15 way one-shot learning accuracy\n",
            "iteration 5400, training loss: 0.09,\n",
            "evaluating\n",
            "Got an average of 67.5% 15 way one-shot learning accuracy\n",
            "iteration 5500, training loss: 0.08,\n",
            "evaluating\n",
            "Got an average of 69.0% 15 way one-shot learning accuracy\n",
            "iteration 5600, training loss: 0.10,\n",
            "evaluating\n",
            "Got an average of 62.5% 15 way one-shot learning accuracy\n",
            "iteration 5700, training loss: 0.08,\n",
            "evaluating\n",
            "Got an average of 70.0% 15 way one-shot learning accuracy\n",
            "iteration 5800, training loss: 0.08,\n",
            "evaluating\n",
            "Got an average of 62.5% 15 way one-shot learning accuracy\n",
            "iteration 5900, training loss: 0.07,\n",
            "evaluating\n",
            "Got an average of 65.0% 15 way one-shot learning accuracy\n",
            "iteration 6000, training loss: 0.07,\n",
            "evaluating\n",
            "Got an average of 69.0% 15 way one-shot learning accuracy\n",
            "iteration 6100, training loss: 0.07,\n",
            "evaluating\n",
            "Got an average of 68.5% 15 way one-shot learning accuracy\n",
            "iteration 6200, training loss: 0.06,\n",
            "evaluating\n",
            "Got an average of 65.0% 15 way one-shot learning accuracy\n",
            "iteration 6300, training loss: 0.06,\n",
            "evaluating\n",
            "Got an average of 68.5% 15 way one-shot learning accuracy\n",
            "iteration 6400, training loss: 0.05,\n",
            "evaluating\n",
            "Got an average of 69.0% 15 way one-shot learning accuracy\n",
            "iteration 6500, training loss: 0.06,\n",
            "evaluating\n",
            "Got an average of 68.5% 15 way one-shot learning accuracy\n",
            "iteration 6600, training loss: 0.05,\n",
            "evaluating\n",
            "Got an average of 53.5% 15 way one-shot learning accuracy\n",
            "iteration 6700, training loss: 0.15,\n",
            "evaluating\n",
            "Got an average of 65.5% 15 way one-shot learning accuracy\n",
            "iteration 6800, training loss: 0.08,\n",
            "evaluating\n",
            "Got an average of 61.5% 15 way one-shot learning accuracy\n",
            "iteration 6900, training loss: 0.07,\n",
            "evaluating\n",
            "Got an average of 68.5% 15 way one-shot learning accuracy\n",
            "iteration 7000, training loss: 0.09,\n",
            "evaluating\n",
            "Got an average of 68.0% 15 way one-shot learning accuracy\n",
            "iteration 7100, training loss: 0.07,\n",
            "evaluating\n",
            "Got an average of 65.0% 15 way one-shot learning accuracy\n",
            "iteration 7200, training loss: 0.05,\n",
            "evaluating\n",
            "Got an average of 61.0% 15 way one-shot learning accuracy\n",
            "iteration 7300, training loss: 0.07,\n",
            "evaluating\n",
            "Got an average of 67.0% 15 way one-shot learning accuracy\n",
            "iteration 7400, training loss: 0.06,\n",
            "evaluating\n",
            "Got an average of 66.0% 15 way one-shot learning accuracy\n",
            "iteration 7500, training loss: 0.05,\n",
            "evaluating\n",
            "Got an average of 65.5% 15 way one-shot learning accuracy\n",
            "iteration 7600, training loss: 0.05,\n",
            "evaluating\n",
            "Got an average of 64.5% 15 way one-shot learning accuracy\n",
            "iteration 7700, training loss: 0.04,\n",
            "evaluating\n",
            "Got an average of 68.0% 15 way one-shot learning accuracy\n",
            "iteration 7800, training loss: 0.04,\n",
            "evaluating\n",
            "Got an average of 64.0% 15 way one-shot learning accuracy\n",
            "iteration 7900, training loss: 0.04,\n",
            "evaluating\n",
            "Got an average of 64.0% 15 way one-shot learning accuracy\n",
            "iteration 8000, training loss: 0.04,\n",
            "evaluating\n",
            "Got an average of 59.5% 15 way one-shot learning accuracy\n",
            "iteration 8100, training loss: 0.04,\n",
            "evaluating\n",
            "Got an average of 67.5% 15 way one-shot learning accuracy\n",
            "iteration 8200, training loss: 0.05,\n",
            "evaluating\n",
            "Got an average of 70.5% 15 way one-shot learning accuracy\n",
            "iteration 8300, training loss: 0.03,\n",
            "evaluating\n",
            "Got an average of 74.0% 15 way one-shot learning accuracy\n",
            "iteration 8400, training loss: 0.03,\n",
            "evaluating\n",
            "Got an average of 68.5% 15 way one-shot learning accuracy\n",
            "iteration 8500, training loss: 0.03,\n",
            "evaluating\n",
            "Got an average of 63.0% 15 way one-shot learning accuracy\n",
            "iteration 8600, training loss: 0.03,\n",
            "evaluating\n",
            "Got an average of 69.5% 15 way one-shot learning accuracy\n",
            "iteration 8700, training loss: 0.03,\n",
            "evaluating\n",
            "Got an average of 65.5% 15 way one-shot learning accuracy\n",
            "iteration 8800, training loss: 0.04,\n",
            "evaluating\n",
            "Got an average of 69.5% 15 way one-shot learning accuracy\n",
            "iteration 8900, training loss: 0.03,\n",
            "evaluating\n",
            "Got an average of 71.5% 15 way one-shot learning accuracy\n",
            "iteration 9000, training loss: 0.04,\n",
            "evaluating\n",
            "Got an average of 71.0% 15 way one-shot learning accuracy\n",
            "iteration 9100, training loss: 0.03,\n",
            "evaluating\n",
            "Got an average of 69.5% 15 way one-shot learning accuracy\n",
            "iteration 9200, training loss: 0.04,\n",
            "evaluating\n",
            "Got an average of 67.5% 15 way one-shot learning accuracy\n",
            "iteration 9300, training loss: 0.02,\n",
            "evaluating\n",
            "Got an average of 64.5% 15 way one-shot learning accuracy\n",
            "iteration 9400, training loss: 0.03,\n",
            "evaluating\n",
            "Got an average of 62.5% 15 way one-shot learning accuracy\n",
            "iteration 9500, training loss: 0.02,\n",
            "evaluating\n",
            "Got an average of 64.5% 15 way one-shot learning accuracy\n",
            "iteration 9600, training loss: 0.02,\n",
            "evaluating\n",
            "Got an average of 62.0% 15 way one-shot learning accuracy\n",
            "iteration 9700, training loss: 0.02,\n",
            "evaluating\n",
            "Got an average of 70.5% 15 way one-shot learning accuracy\n",
            "iteration 9800, training loss: 0.02,\n",
            "evaluating\n",
            "Got an average of 65.5% 15 way one-shot learning accuracy\n",
            "iteration 9900, training loss: 0.02,\n"
          ],
          "name": "stdout"
        }
      ]
    },
    {
      "cell_type": "code",
      "metadata": {
        "id": "_RskKoTddbou",
        "colab_type": "code",
        "colab": {
          "base_uri": "https://localhost:8080/",
          "height": 282
        },
        "outputId": "c4a29d1b-c85b-4d25-faf7-51cecc434cf5"
      },
      "source": [
        "iters = range(100,10000,100)\n",
        "plt.plot(iters,training_losses,'bo')"
      ],
      "execution_count": 107,
      "outputs": [
        {
          "output_type": "execute_result",
          "data": {
            "text/plain": [
              "[<matplotlib.lines.Line2D at 0x7f9ccebcf2e8>]"
            ]
          },
          "metadata": {
            "tags": []
          },
          "execution_count": 107
        },
        {
          "output_type": "display_data",
          "data": {
            "image/png": "[encoded data removed]",
            "text/plain": [
              "<Figure size 432x288 with 1 Axes>"
            ]
          },
          "metadata": {
            "tags": [],
            "needs_background": "light"
          }
        }
      ]
    },
    {
      "cell_type": "code",
      "metadata": {
        "id": "OlmCAQwQd4Bl",
        "colab_type": "code",
        "colab": {
          "base_uri": "https://localhost:8080/",
          "height": 282
        },
        "outputId": "52fec387-cb2b-435e-a73d-2a027f19602d"
      },
      "source": [
        "plt.plot(iters,val_accs,'bo')"
      ],
      "execution_count": 108,
      "outputs": [
        {
          "output_type": "execute_result",
          "data": {
            "text/plain": [
              "[<matplotlib.lines.Line2D at 0x7f9ccf0c2ac8>]"
            ]
          },
          "metadata": {
            "tags": []
          },
          "execution_count": 108
        },
        {
          "output_type": "display_data",
          "data": {
            "image/png": "[encoded data removed]",
            "text/plain": [
              "<Figure size 432x288 with 1 Axes>"
            ]
          },
          "metadata": {
            "tags": [],
            "needs_background": "light"
          }
        }
      ]
    },
    {
      "cell_type": "code",
      "metadata": {
        "id": "Qz362SARRz2v",
        "colab_type": "code",
        "colab": {
          "base_uri": "https://localhost:8080/",
          "height": 1000
        },
        "outputId": "e19905d1-1895-4740-bdbd-67574e25654c"
      },
      "source": [
        "def nearest_neighbour_correct(pairs,targets):\n",
        "    \"\"\"returns 1 if nearest neighbour gets the correct answer for a one-shot task\n",
        "        given by (pairs, targets)\"\"\"\n",
        "    L2_distances = np.zeros_like(targets)\n",
        "    for i in range(len(targets)):\n",
        "        L2_distances[i] = np.sum(np.sqrt(pairs[0][i]**2 - pairs[1][i]**2))\n",
        "    if np.argmin(L2_distances) == np.argmax(targets):\n",
        "        return 1\n",
        "    return 0\n",
        "\n",
        "\n",
        "def test_nn_accuracy(N_ways,n_trials,loader):\n",
        "    \"\"\"Returns accuracy of one shot \"\"\"\n",
        "    print(\"Evaluating nearest neighbour on {} unique {} way one-shot learning tasks ...\".format(n_trials,N_ways))\n",
        "\n",
        "    n_right = 0\n",
        "    \n",
        "    for i in range(n_trials):\n",
        "        pairs,targets = loader.make_oneshot_task(N_ways,\"val\")\n",
        "        correct = nearest_neighbour_correct(pairs,targets)\n",
        "        n_right += correct\n",
        "    return 100.0 * n_right / n_trials\n",
        "\n",
        "\n",
        "ways = np.arange(1, 16, 1)\n",
        "resume =  False\n",
        "val_accs, train_accs,nn_accs = [], [], []\n",
        "trials = 450\n",
        "for N in ways:\n",
        "    val_accs.append(loader.test_oneshot(siamese_net, N,trials, \"val\", verbose=True))\n",
        "    train_accs.append(loader.test_oneshot(siamese_net, N,trials, \"train\", verbose=True))\n",
        "    nn_accs.append(test_nn_accuracy(N,trials, loader))\n",
        "    \n",
        "#plot the accuracy vs num categories for each\n",
        "plt.plot(ways, val_accs, \"m\")\n",
        "plt.plot(ways, train_accs, \"y\")\n",
        "plt.plot(ways, nn_accs, \"c\")\n",
        "\n",
        "plt.plot(ways,100.0/ways,\"r\")\n",
        "plt.show()"
      ],
      "execution_count": 110,
      "outputs": [
        {
          "output_type": "stream",
          "text": [
            "Got an average of 100.0% 1 way one-shot learning accuracy\n",
            "Got an average of 100.0% 1 way one-shot learning accuracy\n",
            "Evaluating nearest neighbour on 450 unique 1 way one-shot learning tasks ...\n"
          ],
          "name": "stdout"
        },
        {
          "output_type": "stream",
          "text": [
            "/usr/local/lib/python3.6/dist-packages/ipykernel_launcher.py:6: RuntimeWarning: invalid value encountered in sqrt\n",
            "  \n"
          ],
          "name": "stderr"
        },
        {
          "output_type": "stream",
          "text": [
            "Got an average of 97.33333333333333% 2 way one-shot learning accuracy\n",
            "Got an average of 97.55555555555556% 2 way one-shot learning accuracy\n",
            "Evaluating nearest neighbour on 450 unique 2 way one-shot learning tasks ...\n",
            "Got an average of 95.55555555555556% 3 way one-shot learning accuracy\n",
            "Got an average of 91.77777777777777% 3 way one-shot learning accuracy\n",
            "Evaluating nearest neighbour on 450 unique 3 way one-shot learning tasks ...\n",
            "Got an average of 91.11111111111111% 4 way one-shot learning accuracy\n",
            "Got an average of 91.55555555555556% 4 way one-shot learning accuracy\n",
            "Evaluating nearest neighbour on 450 unique 4 way one-shot learning tasks ...\n",
            "Got an average of 88.44444444444444% 5 way one-shot learning accuracy\n",
            "Got an average of 88.22222222222223% 5 way one-shot learning accuracy\n",
            "Evaluating nearest neighbour on 450 unique 5 way one-shot learning tasks ...\n",
            "Got an average of 88.22222222222223% 6 way one-shot learning accuracy\n",
            "Got an average of 84.66666666666667% 6 way one-shot learning accuracy\n",
            "Evaluating nearest neighbour on 450 unique 6 way one-shot learning tasks ...\n",
            "Got an average of 84.22222222222223% 7 way one-shot learning accuracy\n",
            "Got an average of 82.66666666666667% 7 way one-shot learning accuracy\n",
            "Evaluating nearest neighbour on 450 unique 7 way one-shot learning tasks ...\n",
            "Got an average of 82.0% 8 way one-shot learning accuracy\n",
            "Got an average of 78.0% 8 way one-shot learning accuracy\n",
            "Evaluating nearest neighbour on 450 unique 8 way one-shot learning tasks ...\n",
            "Got an average of 76.88888888888889% 9 way one-shot learning accuracy\n",
            "Got an average of 80.22222222222223% 9 way one-shot learning accuracy\n",
            "Evaluating nearest neighbour on 450 unique 9 way one-shot learning tasks ...\n",
            "Got an average of 74.44444444444444% 10 way one-shot learning accuracy\n",
            "Got an average of 74.22222222222223% 10 way one-shot learning accuracy\n",
            "Evaluating nearest neighbour on 450 unique 10 way one-shot learning tasks ...\n",
            "Got an average of 72.44444444444444% 11 way one-shot learning accuracy\n",
            "Got an average of 73.11111111111111% 11 way one-shot learning accuracy\n",
            "Evaluating nearest neighbour on 450 unique 11 way one-shot learning tasks ...\n",
            "Got an average of 70.88888888888889% 12 way one-shot learning accuracy\n",
            "Got an average of 72.44444444444444% 12 way one-shot learning accuracy\n",
            "Evaluating nearest neighbour on 450 unique 12 way one-shot learning tasks ...\n",
            "Got an average of 68.88888888888889% 13 way one-shot learning accuracy\n",
            "Got an average of 67.33333333333333% 13 way one-shot learning accuracy\n",
            "Evaluating nearest neighbour on 450 unique 13 way one-shot learning tasks ...\n",
            "Got an average of 66.22222222222223% 14 way one-shot learning accuracy\n",
            "Got an average of 67.33333333333333% 14 way one-shot learning accuracy\n",
            "Evaluating nearest neighbour on 450 unique 14 way one-shot learning tasks ...\n",
            "Got an average of 67.33333333333333% 15 way one-shot learning accuracy\n",
            "Got an average of 69.11111111111111% 15 way one-shot learning accuracy\n",
            "Evaluating nearest neighbour on 450 unique 15 way one-shot learning tasks ...\n"
          ],
          "name": "stdout"
        },
        {
          "output_type": "display_data",
          "data": {
            "image/png": "[encoded data removed]",
            "text/plain": [
              "<Figure size 432x288 with 1 Axes>"
            ]
          },
          "metadata": {
            "tags": [],
            "needs_background": "light"
          }
        }
      ]
    },
    {
      "cell_type": "code",
      "metadata": {
        "id": "VUWuflqqeHHL",
        "colab_type": "code",
        "colab": {
          "base_uri": "https://localhost:8080/",
          "height": 814
        },
        "outputId": "5f6350d4-0c0e-4f2a-b57c-c583e67226f7"
      },
      "source": [
        "fig,ax = plt.subplots(1)\n",
        "ax.plot(ways,val_accs,\"m\",label=\"Siamese(val set)\")\n",
        "ax.plot(ways,train_accs,\"y\",label=\"Siamese(train set)\")\n",
        "plt.plot(ways,nn_accs,label=\"Nearest neighbour\")\n",
        "\n",
        "ax.plot(ways,100.0/ways,\"g\",label=\"Random guessing\")\n",
        "plt.xlabel(\"Number of possible classes in one-shot tasks\")\n",
        "plt.ylabel(\"% Accuracy\")\n",
        "plt.title(\"Omiglot One-Shot Learning Performance of a Siamese Network\")\n",
        "box = ax.get_position()\n",
        "ax.set_position([box.x0, box.y0, box.width * 0.8, box.height])\n",
        "ax.legend(loc='center left', bbox_to_anchor=(1, 0.5))\n",
        "inputs,targets = loader.make_oneshot_task(15,\"val\")\n",
        "plt.show()\n",
        "\n",
        "print(inputs[0].shape)\n",
        "plot_oneshot_task(inputs)\n",
        "p=siamese_net.predict(inputs)\n",
        "print(p)"
      ],
      "execution_count": 112,
      "outputs": [
        {
          "output_type": "display_data",
          "data": {
            "image/png": "[encoded data removed]",
            "text/plain": [
              "<Figure size 432x288 with 1 Axes>"
            ]
          },
          "metadata": {
            "tags": [],
            "needs_background": "light"
          }
        },
        {
          "output_type": "stream",
          "text": [
            "(15, 105, 105, 3)\n"
          ],
          "name": "stdout"
        },
        {
          "output_type": "display_data",
          "data": {
            "image/png": "[encoded data removed]",
            "text/plain": [
              "<Figure size 432x288 with 2 Axes>"
            ]
          },
          "metadata": {
            "tags": [],
            "needs_background": "light"
          }
        },
        {
          "output_type": "stream",
          "text": [
            "[[2.1492837e-05]\n",
            " [3.3371622e-04]\n",
            " [6.7357840e-05]\n",
            " [3.4856673e-02]\n",
            " [2.4759917e-02]\n",
            " [1.4133556e-05]\n",
            " [6.0009272e-03]\n",
            " [2.0059359e-03]\n",
            " [4.5970231e-04]\n",
            " [3.5258226e-06]\n",
            " [9.4070607e-01]\n",
            " [5.8083569e-05]\n",
            " [5.8778342e-06]\n",
            " [7.8639924e-04]\n",
            " [2.9842971e-02]]\n"
          ],
          "name": "stdout"
        }
      ]
    }
  ]
}