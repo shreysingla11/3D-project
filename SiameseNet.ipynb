{
  "nbformat": 4,
  "nbformat_minor": 0,
  "metadata": {
    "celltoolbar": "Raw Cell Format",
    "kernelspec": {
      "display_name": "Python 3",
      "language": "python",
      "name": "python3"
    },
    "language_info": {
      "codemirror_mode": {
        "name": "ipython",
        "version": 3
      },
      "file_extension": ".py",
      "mimetype": "text/x-python",
      "name": "python",
      "nbconvert_exporter": "python",
      "pygments_lexer": "ipython3",
      "version": "3.7.6"
    },
    "colab": {
      "name": "SiameseNet.ipynb",
      "provenance": [],
      "toc_visible": true,
      "include_colab_link": true
    },
    "accelerator": "GPU"
  },
  "cells": [
    {
      "cell_type": "markdown",
      "metadata": {
        "id": "view-in-github",
        "colab_type": "text"
      },
      "source": [
        "<a href=\"https://colab.research.google.com/github/shreysingla11/3D-project/blob/master/SiameseNet.ipynb\" target=\"_parent\"><img src=\"https://colab.research.google.com/assets/colab-badge.svg\" alt=\"Open In Colab\"/></a>"
      ]
    },
    {
      "cell_type": "code",
      "metadata": {
        "id": "K717pD42UoOy",
        "colab_type": "code",
        "outputId": "4608aa64-310c-497e-c825-7ea894e4f802",
        "colab": {
          "base_uri": "https://localhost:8080/",
          "height": 372
        }
      },
      "source": [
        "from keras.layers import Input, Conv2D, Lambda, merge, Dense, Flatten,MaxPooling2D\n",
        "from keras.models import Model, Sequential\n",
        "from keras.regularizers import l2\n",
        "from keras import backend as K\n",
        "from keras.optimizers import SGD,Adam\n",
        "from keras.losses import binary_crossentropy\n",
        "import numpy.random as rng\n",
        "import numpy as np\n",
        "import os\n",
        "import pickle\n",
        "import matplotlib.pyplot as plt\n",
        "#import seaborn as sns\n",
        "from sklearn.utils import shuffle\n",
        "%matplotlib inline\n",
        "def W_init(shape,dtype=None):\n",
        "    \"\"\"Initialize weights as in paper\"\"\"\n",
        "    values = rng.normal(loc=0,scale=1e-2,size=shape)\n",
        "    return K.variable(values,dtype=dtype)\n",
        "#//TODO: figure out how to initialize layer biases in keras.\n",
        "def b_init(shape,dtype=None):\n",
        "    \"\"\"Initialize bias as in paper\"\"\"\n",
        "    values=rng.normal(loc=0.5,scale=1e-2,size=shape)\n",
        "    return K.variable(values,dtype=dtype)\n",
        "\n",
        "input_shape = (105, 105, 1)\n",
        "left_input = Input(input_shape)\n",
        "right_input = Input(input_shape)\n",
        "#build convnet to use in each siamese 'leg'\n",
        "convnet = Sequential()\n",
        "convnet.add(Conv2D(64,(10,10),activation='relu',input_shape=input_shape,\n",
        "                   kernel_initializer=W_init,kernel_regularizer=l2(2e-4)))\n",
        "convnet.add(MaxPooling2D())\n",
        "convnet.add(Conv2D(128,(7,7),activation='relu',\n",
        "                   kernel_regularizer=l2(2e-4),kernel_initializer=W_init,bias_initializer=b_init))\n",
        "convnet.add(MaxPooling2D())\n",
        "convnet.add(Conv2D(128,(4,4),activation='relu',kernel_initializer=W_init,kernel_regularizer=l2(2e-4),bias_initializer=b_init))\n",
        "convnet.add(MaxPooling2D())\n",
        "convnet.add(Conv2D(256,(4,4),activation='relu',kernel_initializer=W_init,kernel_regularizer=l2(2e-4),bias_initializer=b_init))\n",
        "convnet.add(Flatten())\n",
        "convnet.add(Dense(4096,activation=\"sigmoid\",kernel_regularizer=l2(1e-3),kernel_initializer=W_init,bias_initializer=b_init))\n",
        "\n",
        "#call the convnet Sequential model on each of the input tensors so params will be shared\n",
        "encoded_l = convnet(left_input)\n",
        "encoded_r = convnet(right_input)\n",
        "#layer to merge two encoded inputs with the l1 distance between them\n",
        "L1_layer = Lambda(lambda tensors:K.abs(tensors[0] - tensors[1]))\n",
        "#call this layer on list of two input tensors.\n",
        "L1_distance = L1_layer([encoded_l, encoded_r])\n",
        "prediction = Dense(1,activation='sigmoid',bias_initializer=b_init)(L1_distance)\n",
        "siamese_net = Model(inputs=[left_input,right_input],outputs=prediction)\n",
        "\n",
        "optimizer = Adam(0.00006)\n",
        "#//TODO: get layerwise learning rates and momentum annealing scheme described in paperworking\n",
        "siamese_net.compile(loss=\"binary_crossentropy\",optimizer=optimizer)\n",
        "\n",
        "siamese_net.summary()\n"
      ],
      "execution_count": 16,
      "outputs": [
        {
          "output_type": "stream",
          "text": [
            "Model: \"model_2\"\n",
            "__________________________________________________________________________________________________\n",
            "Layer (type)                    Output Shape         Param #     Connected to                     \n",
            "==================================================================================================\n",
            "input_3 (InputLayer)            (None, 105, 105, 1)  0                                            \n",
            "__________________________________________________________________________________________________\n",
            "input_4 (InputLayer)            (None, 105, 105, 1)  0                                            \n",
            "__________________________________________________________________________________________________\n",
            "sequential_2 (Sequential)       (None, 4096)         38947648    input_3[0][0]                    \n",
            "                                                                 input_4[0][0]                    \n",
            "__________________________________________________________________________________________________\n",
            "lambda_2 (Lambda)               (None, 4096)         0           sequential_2[1][0]               \n",
            "                                                                 sequential_2[2][0]               \n",
            "__________________________________________________________________________________________________\n",
            "dense_4 (Dense)                 (None, 1)            4097        lambda_2[0][0]                   \n",
            "==================================================================================================\n",
            "Total params: 38,951,745\n",
            "Trainable params: 38,951,745\n",
            "Non-trainable params: 0\n",
            "__________________________________________________________________________________________________\n"
          ],
          "name": "stdout"
        }
      ]
    },
    {
      "cell_type": "code",
      "metadata": {
        "id": "oLEFhdXrUsYK",
        "colab_type": "code",
        "outputId": "1155f835-dfcc-4357-89dd-2928784f9e0a",
        "colab": {
          "base_uri": "https://localhost:8080/",
          "height": 34
        }
      },
      "source": [
        "from google.colab import drive\n",
        "drive.mount('/content/gdrive')"
      ],
      "execution_count": 17,
      "outputs": [
        {
          "output_type": "stream",
          "text": [
            "Drive already mounted at /content/gdrive; to attempt to forcibly remount, call drive.mount(\"/content/gdrive\", force_remount=True).\n"
          ],
          "name": "stdout"
        }
      ]
    },
    {
      "cell_type": "markdown",
      "metadata": {
        "id": "R5QS9oBdUoO3",
        "colab_type": "text"
      },
      "source": [
        "## Data \n",
        "The data is pickled as an N_classes x n_examples x width x height array, and there is an accompanyng dictionary to specify which indexes belong to which languages."
      ]
    },
    {
      "cell_type": "code",
      "metadata": {
        "id": "kxaSfyfrUoO4",
        "colab_type": "code",
        "outputId": "e79bb18f-55b3-4d69-a540-efa91de9cc07",
        "colab": {
          "base_uri": "https://localhost:8080/",
          "height": 107
        }
      },
      "source": [
        "PATH = \"/content/gdrive/My Drive/keras-oneshot\" #CHANGE THIS - path where the pickled data is stored\n",
        "\n",
        "with open(os.path.join(PATH, \"train.pickle\"), \"rb\") as f:\n",
        "    (X,c) = pickle.load(f)\n",
        "\n",
        "with open(os.path.join(PATH, \"val.pickle\"), \"rb\") as f:\n",
        "    (Xval,cval) = pickle.load(f)\n",
        "    \n",
        "print(\"training alphabets\")\n",
        "print(c.keys())\n",
        "print(\"validation alphabets:\")\n",
        "print(cval.keys())"
      ],
      "execution_count": 18,
      "outputs": [
        {
          "output_type": "stream",
          "text": [
            "training alphabets\n",
            "dict_keys(['Japanese_(katakana)', 'Sanskrit', 'Korean', 'Tifinagh', 'Japanese_(hiragana)', 'Greek', 'Mkhedruli_(Georgian)', 'Ojibwe_(Canadian_Aboriginal_Syllabics)', 'Grantha', 'Latin', 'Cyrillic', 'Braille', 'Balinese', 'Tagalog', 'Anglo-Saxon_Futhorc', 'Futurama', 'Asomtavruli_(Georgian)', 'Burmese_(Myanmar)', 'N_Ko', 'Bengali', 'Armenian', 'Hebrew', 'Blackfoot_(Canadian_Aboriginal_Syllabics)', 'Alphabet_of_the_Magi', 'Gujarati', 'Syriac_(Estrangelo)', 'Arcadian', 'Malay_(Jawi_-_Arabic)', 'Inuktitut_(Canadian_Aboriginal_Syllabics)', 'Early_Aramaic'])\n",
            "validation alphabets:\n",
            "dict_keys(['Old_Church_Slavonic_(Cyrillic)', 'Angelic', 'Keble', 'Sylheti', 'Atlantean', 'Glagolitic', 'Malayalam', 'Syriac_(Serto)', 'Tengwar', 'ULOG', 'Mongolian', 'Aurek-Besh', 'Ge_ez', 'Avesta', 'Tibetan', 'Atemayar_Qelisayer', 'Oriya', 'Manipuri', 'Gurmukhi', 'Kannada'])\n"
          ],
          "name": "stdout"
        }
      ]
    },
    {
      "cell_type": "code",
      "metadata": {
        "id": "nI4cEaX8UoO6",
        "colab_type": "code",
        "outputId": "62159a51-2e4e-4260-b948-9bf8e12faff9",
        "colab": {
          "base_uri": "https://localhost:8080/",
          "height": 34
        }
      },
      "source": [
        "X.shape"
      ],
      "execution_count": 19,
      "outputs": [
        {
          "output_type": "execute_result",
          "data": {
            "text/plain": [
              "(964, 20, 105, 105)"
            ]
          },
          "metadata": {
            "tags": []
          },
          "execution_count": 19
        }
      ]
    },
    {
      "cell_type": "code",
      "metadata": {
        "id": "7_KPS_A5UoO8",
        "colab_type": "code",
        "outputId": "ee379479-b351-41dd-f1bd-c935b67d2693",
        "colab": {
          "base_uri": "https://localhost:8080/",
          "height": 372
        }
      },
      "source": [
        "cval"
      ],
      "execution_count": 20,
      "outputs": [
        {
          "output_type": "execute_result",
          "data": {
            "text/plain": [
              "{'Angelic': [45, 64],\n",
              " 'Atemayar_Qelisayer': [461, 486],\n",
              " 'Atlantean': [119, 144],\n",
              " 'Aurek-Besh': [341, 366],\n",
              " 'Avesta': [393, 418],\n",
              " 'Ge_ez': [367, 392],\n",
              " 'Glagolitic': [145, 189],\n",
              " 'Gurmukhi': [573, 617],\n",
              " 'Kannada': [618, 658],\n",
              " 'Keble': [65, 90],\n",
              " 'Malayalam': [190, 236],\n",
              " 'Manipuri': [533, 572],\n",
              " 'Mongolian': [311, 340],\n",
              " 'Old_Church_Slavonic_(Cyrillic)': [0, 44],\n",
              " 'Oriya': [487, 532],\n",
              " 'Sylheti': [91, 118],\n",
              " 'Syriac_(Serto)': [237, 259],\n",
              " 'Tengwar': [260, 284],\n",
              " 'Tibetan': [419, 460],\n",
              " 'ULOG': [285, 310]}"
            ]
          },
          "metadata": {
            "tags": []
          },
          "execution_count": 20
        }
      ]
    },
    {
      "cell_type": "code",
      "metadata": {
        "scrolled": false,
        "id": "vD4CmRbmUoO-",
        "colab_type": "code",
        "outputId": "efc69e50-c281-43e8-b4a2-ed554af72004",
        "colab": {
          "base_uri": "https://localhost:8080/",
          "height": 52
        }
      },
      "source": [
        "class Siamese_Loader:\n",
        "    \"\"\"For loading batches and testing tasks to a siamese net\"\"\"\n",
        "    def __init__(self, path, data_subsets = [\"train\", \"val\"]):\n",
        "        self.data = {}\n",
        "        self.categories = {}\n",
        "        self.info = {}\n",
        "        \n",
        "        for name in data_subsets:\n",
        "            file_path = os.path.join(path, name + \".pickle\")\n",
        "            print(\"loading data from {}\".format(file_path))\n",
        "            with open(file_path,\"rb\") as f:\n",
        "                (X,c) = pickle.load(f)\n",
        "                self.data[name] = X\n",
        "                self.categories[name] = c\n",
        "\n",
        "    def get_batch(self,batch_size,s=\"train\"):\n",
        "        \"\"\"Create batch of n pairs, half same class, half different class\"\"\"\n",
        "        X=self.data[s]\n",
        "        n_classes, n_examples, w, h = X.shape\n",
        "\n",
        "        #randomly sample several classes to use in the batch\n",
        "        categories = rng.choice(n_classes,size=(batch_size,),replace=False)\n",
        "        #initialize 2 empty arrays for the input image batch\n",
        "        pairs=[np.zeros((batch_size, h, w,1)) for i in range(2)]\n",
        "        #initialize vector for the targets, and make one half of it '1's, so 2nd half of batch has same class\n",
        "        targets=np.zeros((batch_size,))\n",
        "        targets[batch_size//2:] = 1\n",
        "        for i in range(batch_size):\n",
        "            category = categories[i]\n",
        "            idx_1 = rng.randint(0, n_examples)\n",
        "            pairs[0][i,:,:,:] = X[category, idx_1].reshape(w, h, 1)\n",
        "            idx_2 = rng.randint(0, n_examples)\n",
        "            #pick images of same class for 1st half, different for 2nd\n",
        "            if i >= batch_size // 2:\n",
        "                category_2 = category  \n",
        "            else: \n",
        "                #add a random number to the category modulo n classes to ensure 2nd image has\n",
        "                # ..different category\n",
        "                category_2 = (category + rng.randint(1,n_classes)) % n_classes\n",
        "            pairs[1][i,:,:,:] = X[category_2,idx_2].reshape(w, h,1)\n",
        "        return pairs, targets\n",
        "    \n",
        "    def generate(self, batch_size, s=\"train\"):\n",
        "        \"\"\"a generator for batches, so model.fit_generator can be used. \"\"\"\n",
        "        while True:\n",
        "            pairs, targets = self.get_batch(batch_size,s)\n",
        "            yield (pairs, targets)    \n",
        "\n",
        "    def make_oneshot_task(self,N,s=\"val\",language=None):\n",
        "        \"\"\"Create pairs of test image, support set for testing N way one-shot learning. \"\"\"\n",
        "        X=self.data[s]\n",
        "        n_classes, n_examples, w, h = X.shape\n",
        "        indices = rng.randint(0,n_examples,size=(N,))\n",
        "        if language is not None:\n",
        "            low, high = self.categories[s][language]\n",
        "            if N > high - low:\n",
        "                raise ValueError(\"This language ({}) has less than {} letters\".format(language, N))\n",
        "            categories = rng.choice(range(low,high),size=(N,),replace=False)\n",
        "            \n",
        "        else:#if no language specified just pick a bunch of random letters\n",
        "            categories = rng.choice(range(n_classes),size=(N,),replace=False)            \n",
        "        true_category = categories[0]\n",
        "        ex1, ex2 = rng.choice(n_examples,replace=False,size=(2,))\n",
        "        test_image = np.asarray([X[true_category,ex1,:,:]]*N).reshape(N, w, h,1)\n",
        "        support_set = X[categories,indices,:,:]\n",
        "        support_set[0,:,:] = X[true_category,ex2]\n",
        "        support_set = support_set.reshape(N, w, h,1)\n",
        "        targets = np.zeros((N,))\n",
        "        targets[0] = 1\n",
        "        targets, test_image, support_set = shuffle(targets, test_image, support_set)\n",
        "        pairs = [test_image,support_set]\n",
        "\n",
        "        return pairs, targets\n",
        "    \n",
        "    def test_oneshot(self,model,N,k,s=\"val\",verbose=0):\n",
        "        \"\"\"Test average N way oneshot learning accuracy of a siamese neural net over k one-shot tasks\"\"\"\n",
        "        n_correct = 0\n",
        "        if verbose:\n",
        "            print(\"Evaluating model on {} random {} way one-shot learning tasks ...\".format(k,N))\n",
        "        for i in range(k):\n",
        "            inputs, targets = self.make_oneshot_task(N,s)\n",
        "            probs = model.predict(inputs)\n",
        "            if np.argmax(probs) == np.argmax(targets):\n",
        "                n_correct+=1\n",
        "        percent_correct = (100.0*n_correct / k)\n",
        "        if verbose:\n",
        "            print(\"Got an average of {}% {} way one-shot learning accuracy\".format(percent_correct,N))\n",
        "        return percent_correct\n",
        "    \n",
        "    def train(self, model, epochs, verbosity):\n",
        "        model.fit_generator(self.generate(batch_size),\n",
        "                            \n",
        "                             )\n",
        "    \n",
        "    \n",
        "#Instantiate the class\n",
        "loader = Siamese_Loader(PATH)"
      ],
      "execution_count": 21,
      "outputs": [
        {
          "output_type": "stream",
          "text": [
            "loading data from /content/gdrive/My Drive/keras-oneshot/train.pickle\n",
            "loading data from /content/gdrive/My Drive/keras-oneshot/val.pickle\n"
          ],
          "name": "stdout"
        }
      ]
    },
    {
      "cell_type": "code",
      "metadata": {
        "id": "P9REDpOlUoPA",
        "colab_type": "code",
        "colab": {}
      },
      "source": [
        "pairs, targets = loader.make_oneshot_task(10,\"train\",\"Sanskrit\")\n"
      ],
      "execution_count": 0,
      "outputs": []
    },
    {
      "cell_type": "code",
      "metadata": {
        "id": "HsFPv6LHUoPC",
        "colab_type": "code",
        "outputId": "0080dcf0-f7f1-408a-d9b4-b74a36901c21",
        "colab": {
          "base_uri": "https://localhost:8080/",
          "height": 34
        }
      },
      "source": [
        "pairs[1][3].mean()"
      ],
      "execution_count": 23,
      "outputs": [
        {
          "output_type": "execute_result",
          "data": {
            "text/plain": [
              "231.50068027210884"
            ]
          },
          "metadata": {
            "tags": []
          },
          "execution_count": 23
        }
      ]
    },
    {
      "cell_type": "code",
      "metadata": {
        "id": "UK_5zckHUoPE",
        "colab_type": "code",
        "colab": {}
      },
      "source": [
        "pairs,targets = loader.get_batch(batch_size=32)"
      ],
      "execution_count": 0,
      "outputs": []
    },
    {
      "cell_type": "code",
      "metadata": {
        "id": "dqOYlbSeUoPH",
        "colab_type": "code",
        "outputId": "b2d15ca9-cf2c-4cd8-8a91-0b9a32a45df0",
        "colab": {
          "base_uri": "https://localhost:8080/",
          "height": 52
        }
      },
      "source": [
        "targets"
      ],
      "execution_count": 25,
      "outputs": [
        {
          "output_type": "execute_result",
          "data": {
            "text/plain": [
              "array([0., 0., 0., 0., 0., 0., 0., 0., 0., 0., 0., 0., 0., 0., 0., 0., 1.,\n",
              "       1., 1., 1., 1., 1., 1., 1., 1., 1., 1., 1., 1., 1., 1., 1.])"
            ]
          },
          "metadata": {
            "tags": []
          },
          "execution_count": 25
        }
      ]
    },
    {
      "cell_type": "code",
      "metadata": {
        "id": "evRgPduRUoPK",
        "colab_type": "code",
        "colab": {}
      },
      "source": [
        "\n",
        "def plot_oneshot_task_2(pairs):\n",
        "    \"\"\"Takes a one-shot task given to a siamese net and  \"\"\"\n",
        "    fig,(ax1,ax2) = plt.subplots(2)\n",
        "    img1 = concat_images(pairs[0])\n",
        "    img2 = concat_images(pairs[1])\n",
        "    ax1.matshow(img1,cmap='gray')\n",
        "    ax1.get_yaxis().set_visible(False)\n",
        "    ax1.get_xaxis().set_visible(False)\n",
        "    ax2.matshow(img2,cmap='gray')\n",
        "    plt.xticks([])\n",
        "    plt.yticks([])\n",
        "    plt.show()"
      ],
      "execution_count": 0,
      "outputs": []
    },
    {
      "cell_type": "code",
      "metadata": {
        "id": "qUut1gqOUoPN",
        "colab_type": "code",
        "outputId": "9e4328c9-79ae-4d96-bc99-1644327efc13",
        "colab": {
          "base_uri": "https://localhost:8080/",
          "height": 254
        }
      },
      "source": [
        "\n",
        "def concat_images(X):\n",
        "    \"\"\"Concatenates a bunch of images into a big matrix for plotting purposes.\"\"\"\n",
        "    nc,h,w,_ = X.shape\n",
        "    X = X.reshape(nc,h,w)\n",
        "    n = np.ceil(np.sqrt(nc)).astype(\"int8\")\n",
        "    img = np.zeros((n*w,n*h))\n",
        "    x = 0\n",
        "    y = 0\n",
        "    for example in range(nc):\n",
        "        img[x*w:(x+1)*w,y*h:(y+1)*h] = X[example]\n",
        "        y += 1\n",
        "        if y >= n:\n",
        "            y = 0\n",
        "            x += 1\n",
        "    return img\n",
        "\n",
        "\n",
        "def plot_oneshot_task(pairs):\n",
        "    \"\"\"Takes a one-shot task given to a siamese net and  \"\"\"\n",
        "    fig,(ax1,ax2) = plt.subplots(2)\n",
        "    ax1.matshow(pairs[0][0].reshape(105,105),cmap='gray')\n",
        "    img = concat_images(pairs[1])\n",
        "    ax1.get_yaxis().set_visible(False)\n",
        "    ax1.get_xaxis().set_visible(False)\n",
        "    ax2.matshow(img,cmap='gray')\n",
        "    plt.xticks([])\n",
        "    plt.yticks([])\n",
        "    plt.show()\n",
        "#example of a one-shot learning task\n",
        "pairs, targets = loader.make_oneshot_task(20,\"train\",\"Sanskrit\")\n",
        "plot_oneshot_task(pairs)\n"
      ],
      "execution_count": 27,
      "outputs": [
        {
          "output_type": "display_data",
          "data": {
            "image/png": "[encoded data removed]",
            "text/plain": [
              "<Figure size 432x288 with 2 Axes>"
            ]
          },
          "metadata": {
            "tags": [],
            "needs_background": "light"
          }
        }
      ]
    },
    {
      "cell_type": "code",
      "metadata": {
        "id": "7U_Y2SAe-tDT",
        "colab_type": "code",
        "outputId": "001f2250-f40f-4b53-b50d-f8508362fb84",
        "colab": {
          "base_uri": "https://localhost:8080/",
          "height": 567
        }
      },
      "source": [
        "from tensorflow.python.client import device_lib\n",
        "print(device_lib.list_local_devices())"
      ],
      "execution_count": 28,
      "outputs": [
        {
          "output_type": "stream",
          "text": [
            "[name: \"/device:CPU:0\"\n",
            "device_type: \"CPU\"\n",
            "memory_limit: 268435456\n",
            "locality {\n",
            "}\n",
            "incarnation: 4861269902884865003\n",
            ", name: \"/device:XLA_CPU:0\"\n",
            "device_type: \"XLA_CPU\"\n",
            "memory_limit: 17179869184\n",
            "locality {\n",
            "}\n",
            "incarnation: 16288634529145918426\n",
            "physical_device_desc: \"device: XLA_CPU device\"\n",
            ", name: \"/device:XLA_GPU:0\"\n",
            "device_type: \"XLA_GPU\"\n",
            "memory_limit: 17179869184\n",
            "locality {\n",
            "}\n",
            "incarnation: 13640120733622542297\n",
            "physical_device_desc: \"device: XLA_GPU device\"\n",
            ", name: \"/device:GPU:0\"\n",
            "device_type: \"GPU\"\n",
            "memory_limit: 11150726272\n",
            "locality {\n",
            "  bus_id: 1\n",
            "  links {\n",
            "  }\n",
            "}\n",
            "incarnation: 2971657955674701765\n",
            "physical_device_desc: \"device: 0, name: Tesla K80, pci bus id: 0000:00:04.0, compute capability: 3.7\"\n",
            "]\n"
          ],
          "name": "stdout"
        }
      ]
    },
    {
      "cell_type": "code",
      "metadata": {
        "id": "aK5qmF2N_k4H",
        "colab_type": "code",
        "outputId": "4a03c242-3b3d-40cd-a034-bd3fa773fcfa",
        "colab": {
          "base_uri": "https://localhost:8080/",
          "height": 34
        }
      },
      "source": [
        "import tensorflow as tf\n",
        "tf.test.gpu_device_name()"
      ],
      "execution_count": 29,
      "outputs": [
        {
          "output_type": "execute_result",
          "data": {
            "text/plain": [
              "'/device:GPU:0'"
            ]
          },
          "metadata": {
            "tags": []
          },
          "execution_count": 29
        }
      ]
    },
    {
      "cell_type": "code",
      "metadata": {
        "scrolled": true,
        "id": "7gd_uthpUoPR",
        "colab_type": "code",
        "outputId": "8e6cdfee-29c9-4cda-daa6-f74d9af33e0d",
        "colab": {
          "base_uri": "https://localhost:8080/",
          "height": 1000
        }
      },
      "source": [
        "\n",
        "#Training loop\n",
        "print(\"!\")\n",
        "evaluate_every = 900 # interval for evaluating on one-shot tasks``\n",
        "loss_every=900 # interval for printing loss (iterations)\n",
        "batch_size = 32\n",
        "n_iter = 90000\n",
        "N_way = 20 # how many classes for testing one-shot tasks>\n",
        "n_val = 250 #how mahy one-shot tasks to validate on?\n",
        "best = -1\n",
        "weights_path = os.path.join(PATH, \"weights\")\n",
        "print(\"training\")\n",
        "for i in range(1, n_iter):\n",
        "    (inputs,targets)=loader.get_batch(batch_size)\n",
        "    loss=siamese_net.train_on_batch(inputs,targets)\n",
        "    #print(loss)\n",
        "    if i % evaluate_every == 0:\n",
        "        print(\"evaluating\")\n",
        "        val_acc = loader.test_oneshot(siamese_net,N_way,n_val,verbose=True)\n",
        "        if val_acc >= best:\n",
        "            #print(\"saving\")\n",
        "            siamese_net.save(weights_path)\n",
        "            best=val_acc\n",
        "\n",
        "    if i % loss_every == 0:\n",
        "        print(\"iteration {}, training loss: {:.2f},\".format(i,loss))\n"
      ],
      "execution_count": 30,
      "outputs": [
        {
          "output_type": "stream",
          "text": [
            "!\n",
            "training\n",
            "evaluating\n",
            "Evaluating model on 250 random 20 way one-shot learning tasks ...\n",
            "Got an average of 54.8% 20 way one-shot learning accuracy\n",
            "iteration 900, training loss: 0.88,\n",
            "evaluating\n",
            "Evaluating model on 250 random 20 way one-shot learning tasks ...\n",
            "Got an average of 66.4% 20 way one-shot learning accuracy\n",
            "iteration 1800, training loss: 0.66,\n",
            "evaluating\n",
            "Evaluating model on 250 random 20 way one-shot learning tasks ...\n",
            "Got an average of 69.6% 20 way one-shot learning accuracy\n",
            "iteration 2700, training loss: 0.52,\n",
            "evaluating\n",
            "Evaluating model on 250 random 20 way one-shot learning tasks ...\n",
            "Got an average of 73.6% 20 way one-shot learning accuracy\n",
            "iteration 3600, training loss: 0.44,\n",
            "evaluating\n",
            "Evaluating model on 250 random 20 way one-shot learning tasks ...\n",
            "Got an average of 71.2% 20 way one-shot learning accuracy\n",
            "iteration 4500, training loss: 0.33,\n",
            "evaluating\n",
            "Evaluating model on 250 random 20 way one-shot learning tasks ...\n",
            "Got an average of 72.0% 20 way one-shot learning accuracy\n",
            "iteration 5400, training loss: 0.44,\n",
            "evaluating\n",
            "Evaluating model on 250 random 20 way one-shot learning tasks ...\n",
            "Got an average of 77.6% 20 way one-shot learning accuracy\n",
            "iteration 6300, training loss: 0.25,\n",
            "evaluating\n",
            "Evaluating model on 250 random 20 way one-shot learning tasks ...\n",
            "Got an average of 73.6% 20 way one-shot learning accuracy\n",
            "iteration 7200, training loss: 0.20,\n",
            "evaluating\n",
            "Evaluating model on 250 random 20 way one-shot learning tasks ...\n",
            "Got an average of 69.2% 20 way one-shot learning accuracy\n",
            "iteration 8100, training loss: 0.34,\n",
            "evaluating\n",
            "Evaluating model on 250 random 20 way one-shot learning tasks ...\n",
            "Got an average of 75.6% 20 way one-shot learning accuracy\n",
            "iteration 9000, training loss: 0.21,\n",
            "evaluating\n",
            "Evaluating model on 250 random 20 way one-shot learning tasks ...\n",
            "Got an average of 80.8% 20 way one-shot learning accuracy\n",
            "iteration 9900, training loss: 0.24,\n",
            "evaluating\n",
            "Evaluating model on 250 random 20 way one-shot learning tasks ...\n",
            "Got an average of 76.4% 20 way one-shot learning accuracy\n",
            "iteration 10800, training loss: 0.19,\n",
            "evaluating\n",
            "Evaluating model on 250 random 20 way one-shot learning tasks ...\n",
            "Got an average of 81.6% 20 way one-shot learning accuracy\n",
            "iteration 11700, training loss: 0.19,\n",
            "evaluating\n",
            "Evaluating model on 250 random 20 way one-shot learning tasks ...\n",
            "Got an average of 80.8% 20 way one-shot learning accuracy\n",
            "iteration 12600, training loss: 0.28,\n",
            "evaluating\n",
            "Evaluating model on 250 random 20 way one-shot learning tasks ...\n",
            "Got an average of 83.2% 20 way one-shot learning accuracy\n",
            "iteration 13500, training loss: 0.20,\n",
            "evaluating\n",
            "Evaluating model on 250 random 20 way one-shot learning tasks ...\n",
            "Got an average of 85.2% 20 way one-shot learning accuracy\n",
            "iteration 14400, training loss: 0.15,\n",
            "evaluating\n",
            "Evaluating model on 250 random 20 way one-shot learning tasks ...\n",
            "Got an average of 78.4% 20 way one-shot learning accuracy\n",
            "iteration 15300, training loss: 0.19,\n",
            "evaluating\n",
            "Evaluating model on 250 random 20 way one-shot learning tasks ...\n",
            "Got an average of 80.8% 20 way one-shot learning accuracy\n",
            "iteration 16200, training loss: 0.14,\n",
            "evaluating\n",
            "Evaluating model on 250 random 20 way one-shot learning tasks ...\n",
            "Got an average of 84.8% 20 way one-shot learning accuracy\n",
            "iteration 17100, training loss: 0.16,\n",
            "evaluating\n",
            "Evaluating model on 250 random 20 way one-shot learning tasks ...\n",
            "Got an average of 80.0% 20 way one-shot learning accuracy\n",
            "iteration 18000, training loss: 0.17,\n",
            "evaluating\n",
            "Evaluating model on 250 random 20 way one-shot learning tasks ...\n",
            "Got an average of 83.6% 20 way one-shot learning accuracy\n",
            "iteration 18900, training loss: 0.17,\n",
            "evaluating\n",
            "Evaluating model on 250 random 20 way one-shot learning tasks ...\n",
            "Got an average of 84.4% 20 way one-shot learning accuracy\n",
            "iteration 19800, training loss: 0.14,\n",
            "evaluating\n",
            "Evaluating model on 250 random 20 way one-shot learning tasks ...\n",
            "Got an average of 84.0% 20 way one-shot learning accuracy\n",
            "iteration 20700, training loss: 0.15,\n",
            "evaluating\n",
            "Evaluating model on 250 random 20 way one-shot learning tasks ...\n",
            "Got an average of 87.2% 20 way one-shot learning accuracy\n",
            "iteration 21600, training loss: 0.16,\n",
            "evaluating\n",
            "Evaluating model on 250 random 20 way one-shot learning tasks ...\n",
            "Got an average of 77.2% 20 way one-shot learning accuracy\n",
            "iteration 22500, training loss: 0.26,\n",
            "evaluating\n",
            "Evaluating model on 250 random 20 way one-shot learning tasks ...\n",
            "Got an average of 84.4% 20 way one-shot learning accuracy\n",
            "iteration 23400, training loss: 0.18,\n",
            "evaluating\n",
            "Evaluating model on 250 random 20 way one-shot learning tasks ...\n",
            "Got an average of 84.8% 20 way one-shot learning accuracy\n",
            "iteration 24300, training loss: 0.24,\n"
          ],
          "name": "stdout"
        },
        {
          "output_type": "error",
          "ename": "KeyboardInterrupt",
          "evalue": "ignored",
          "traceback": [
            "\u001b[0;31m---------------------------------------------------------------------------\u001b[0m",
            "\u001b[0;31mKeyboardInterrupt\u001b[0m                         Traceback (most recent call last)",
            "\u001b[0;32m<ipython-input-30-2af937e83aa1>\u001b[0m in \u001b[0;36m<module>\u001b[0;34m()\u001b[0m\n\u001b[1;32m     13\u001b[0m \u001b[0;32mfor\u001b[0m \u001b[0mi\u001b[0m \u001b[0;32min\u001b[0m \u001b[0mrange\u001b[0m\u001b[0;34m(\u001b[0m\u001b[0;36m1\u001b[0m\u001b[0;34m,\u001b[0m \u001b[0mn_iter\u001b[0m\u001b[0;34m)\u001b[0m\u001b[0;34m:\u001b[0m\u001b[0;34m\u001b[0m\u001b[0;34m\u001b[0m\u001b[0m\n\u001b[1;32m     14\u001b[0m     \u001b[0;34m(\u001b[0m\u001b[0minputs\u001b[0m\u001b[0;34m,\u001b[0m\u001b[0mtargets\u001b[0m\u001b[0;34m)\u001b[0m\u001b[0;34m=\u001b[0m\u001b[0mloader\u001b[0m\u001b[0;34m.\u001b[0m\u001b[0mget_batch\u001b[0m\u001b[0;34m(\u001b[0m\u001b[0mbatch_size\u001b[0m\u001b[0;34m)\u001b[0m\u001b[0;34m\u001b[0m\u001b[0;34m\u001b[0m\u001b[0m\n\u001b[0;32m---> 15\u001b[0;31m     \u001b[0mloss\u001b[0m\u001b[0;34m=\u001b[0m\u001b[0msiamese_net\u001b[0m\u001b[0;34m.\u001b[0m\u001b[0mtrain_on_batch\u001b[0m\u001b[0;34m(\u001b[0m\u001b[0minputs\u001b[0m\u001b[0;34m,\u001b[0m\u001b[0mtargets\u001b[0m\u001b[0;34m)\u001b[0m\u001b[0;34m\u001b[0m\u001b[0;34m\u001b[0m\u001b[0m\n\u001b[0m\u001b[1;32m     16\u001b[0m     \u001b[0;31m#print(loss)\u001b[0m\u001b[0;34m\u001b[0m\u001b[0;34m\u001b[0m\u001b[0;34m\u001b[0m\u001b[0m\n\u001b[1;32m     17\u001b[0m     \u001b[0;32mif\u001b[0m \u001b[0mi\u001b[0m \u001b[0;34m%\u001b[0m \u001b[0mevaluate_every\u001b[0m \u001b[0;34m==\u001b[0m \u001b[0;36m0\u001b[0m\u001b[0;34m:\u001b[0m\u001b[0;34m\u001b[0m\u001b[0;34m\u001b[0m\u001b[0m\n",
            "\u001b[0;32m/usr/local/lib/python3.6/dist-packages/keras/engine/training.py\u001b[0m in \u001b[0;36mtrain_on_batch\u001b[0;34m(self, x, y, sample_weight, class_weight, reset_metrics)\u001b[0m\n\u001b[1;32m   1512\u001b[0m             \u001b[0mins\u001b[0m \u001b[0;34m=\u001b[0m \u001b[0mx\u001b[0m \u001b[0;34m+\u001b[0m \u001b[0my\u001b[0m \u001b[0;34m+\u001b[0m \u001b[0msample_weights\u001b[0m\u001b[0;34m\u001b[0m\u001b[0;34m\u001b[0m\u001b[0m\n\u001b[1;32m   1513\u001b[0m         \u001b[0mself\u001b[0m\u001b[0;34m.\u001b[0m\u001b[0m_make_train_function\u001b[0m\u001b[0;34m(\u001b[0m\u001b[0;34m)\u001b[0m\u001b[0;34m\u001b[0m\u001b[0;34m\u001b[0m\u001b[0m\n\u001b[0;32m-> 1514\u001b[0;31m         \u001b[0moutputs\u001b[0m \u001b[0;34m=\u001b[0m \u001b[0mself\u001b[0m\u001b[0;34m.\u001b[0m\u001b[0mtrain_function\u001b[0m\u001b[0;34m(\u001b[0m\u001b[0mins\u001b[0m\u001b[0;34m)\u001b[0m\u001b[0;34m\u001b[0m\u001b[0;34m\u001b[0m\u001b[0m\n\u001b[0m\u001b[1;32m   1515\u001b[0m \u001b[0;34m\u001b[0m\u001b[0m\n\u001b[1;32m   1516\u001b[0m         \u001b[0;32mif\u001b[0m \u001b[0mreset_metrics\u001b[0m\u001b[0;34m:\u001b[0m\u001b[0;34m\u001b[0m\u001b[0;34m\u001b[0m\u001b[0m\n",
            "\u001b[0;32m/usr/local/lib/python3.6/dist-packages/tensorflow/python/keras/backend.py\u001b[0m in \u001b[0;36m__call__\u001b[0;34m(self, inputs)\u001b[0m\n\u001b[1;32m   3798\u001b[0m     return nest.pack_sequence_as(\n\u001b[1;32m   3799\u001b[0m         \u001b[0mself\u001b[0m\u001b[0;34m.\u001b[0m\u001b[0m_outputs_structure\u001b[0m\u001b[0;34m,\u001b[0m\u001b[0;34m\u001b[0m\u001b[0;34m\u001b[0m\u001b[0m\n\u001b[0;32m-> 3800\u001b[0;31m         \u001b[0;34m[\u001b[0m\u001b[0mx\u001b[0m\u001b[0;34m.\u001b[0m\u001b[0m_numpy\u001b[0m\u001b[0;34m(\u001b[0m\u001b[0;34m)\u001b[0m \u001b[0;32mfor\u001b[0m \u001b[0mx\u001b[0m \u001b[0;32min\u001b[0m \u001b[0moutputs\u001b[0m\u001b[0;34m]\u001b[0m\u001b[0;34m,\u001b[0m  \u001b[0;31m# pylint: disable=protected-access\u001b[0m\u001b[0;34m\u001b[0m\u001b[0;34m\u001b[0m\u001b[0m\n\u001b[0m\u001b[1;32m   3801\u001b[0m         expand_composites=True)\n\u001b[1;32m   3802\u001b[0m \u001b[0;34m\u001b[0m\u001b[0m\n",
            "\u001b[0;32m/usr/local/lib/python3.6/dist-packages/tensorflow/python/keras/backend.py\u001b[0m in \u001b[0;36m<listcomp>\u001b[0;34m(.0)\u001b[0m\n\u001b[1;32m   3798\u001b[0m     return nest.pack_sequence_as(\n\u001b[1;32m   3799\u001b[0m         \u001b[0mself\u001b[0m\u001b[0;34m.\u001b[0m\u001b[0m_outputs_structure\u001b[0m\u001b[0;34m,\u001b[0m\u001b[0;34m\u001b[0m\u001b[0;34m\u001b[0m\u001b[0m\n\u001b[0;32m-> 3800\u001b[0;31m         \u001b[0;34m[\u001b[0m\u001b[0mx\u001b[0m\u001b[0;34m.\u001b[0m\u001b[0m_numpy\u001b[0m\u001b[0;34m(\u001b[0m\u001b[0;34m)\u001b[0m \u001b[0;32mfor\u001b[0m \u001b[0mx\u001b[0m \u001b[0;32min\u001b[0m \u001b[0moutputs\u001b[0m\u001b[0;34m]\u001b[0m\u001b[0;34m,\u001b[0m  \u001b[0;31m# pylint: disable=protected-access\u001b[0m\u001b[0;34m\u001b[0m\u001b[0;34m\u001b[0m\u001b[0m\n\u001b[0m\u001b[1;32m   3801\u001b[0m         expand_composites=True)\n\u001b[1;32m   3802\u001b[0m \u001b[0;34m\u001b[0m\u001b[0m\n",
            "\u001b[0;32m/usr/local/lib/python3.6/dist-packages/tensorflow/python/framework/ops.py\u001b[0m in \u001b[0;36m_numpy\u001b[0;34m(self)\u001b[0m\n\u001b[1;32m    925\u001b[0m     \u001b[0;31m# pylint: disable=protected-access\u001b[0m\u001b[0;34m\u001b[0m\u001b[0;34m\u001b[0m\u001b[0;34m\u001b[0m\u001b[0m\n\u001b[1;32m    926\u001b[0m     \u001b[0;32mtry\u001b[0m\u001b[0;34m:\u001b[0m\u001b[0;34m\u001b[0m\u001b[0;34m\u001b[0m\u001b[0m\n\u001b[0;32m--> 927\u001b[0;31m       \u001b[0;32mreturn\u001b[0m \u001b[0mself\u001b[0m\u001b[0;34m.\u001b[0m\u001b[0m_numpy_internal\u001b[0m\u001b[0;34m(\u001b[0m\u001b[0;34m)\u001b[0m\u001b[0;34m\u001b[0m\u001b[0;34m\u001b[0m\u001b[0m\n\u001b[0m\u001b[1;32m    928\u001b[0m     \u001b[0;32mexcept\u001b[0m \u001b[0mcore\u001b[0m\u001b[0;34m.\u001b[0m\u001b[0m_NotOkStatusException\u001b[0m \u001b[0;32mas\u001b[0m \u001b[0me\u001b[0m\u001b[0;34m:\u001b[0m\u001b[0;34m\u001b[0m\u001b[0;34m\u001b[0m\u001b[0m\n\u001b[1;32m    929\u001b[0m       \u001b[0msix\u001b[0m\u001b[0;34m.\u001b[0m\u001b[0mraise_from\u001b[0m\u001b[0;34m(\u001b[0m\u001b[0mcore\u001b[0m\u001b[0;34m.\u001b[0m\u001b[0m_status_to_exception\u001b[0m\u001b[0;34m(\u001b[0m\u001b[0me\u001b[0m\u001b[0;34m.\u001b[0m\u001b[0mcode\u001b[0m\u001b[0;34m,\u001b[0m \u001b[0me\u001b[0m\u001b[0;34m.\u001b[0m\u001b[0mmessage\u001b[0m\u001b[0;34m)\u001b[0m\u001b[0;34m,\u001b[0m \u001b[0;32mNone\u001b[0m\u001b[0;34m)\u001b[0m\u001b[0;34m\u001b[0m\u001b[0;34m\u001b[0m\u001b[0m\n",
            "\u001b[0;31mKeyboardInterrupt\u001b[0m: "
          ]
        }
      ]
    },
    {
      "cell_type": "code",
      "metadata": {
        "id": "6kgyAgUyUoPT",
        "colab_type": "code",
        "colab": {
          "base_uri": "https://localhost:8080/",
          "height": 1000
        },
        "outputId": "b893fd45-16b7-44eb-ee8d-e0edf9f95d52"
      },
      "source": [
        "def nearest_neighbour_correct(pairs,targets):\n",
        "    \"\"\"returns 1 if nearest neighbour gets the correct answer for a one-shot task\n",
        "        given by (pairs, targets)\"\"\"\n",
        "    L2_distances = np.zeros_like(targets)\n",
        "    for i in range(len(targets)):\n",
        "        L2_distances[i] = np.sum(np.sqrt(pairs[0][i]**2 - pairs[1][i]**2))\n",
        "    if np.argmin(L2_distances) == np.argmax(targets):\n",
        "        return 1\n",
        "    return 0\n",
        "\n",
        "\n",
        "def test_nn_accuracy(N_ways,n_trials,loader):\n",
        "    \"\"\"Returns accuracy of one shot \"\"\"\n",
        "    print(\"Evaluating nearest neighbour on {} unique {} way one-shot learning tasks ...\".format(n_trials,N_ways))\n",
        "\n",
        "    n_right = 0\n",
        "    \n",
        "    for i in range(n_trials):\n",
        "        pairs,targets = loader.make_oneshot_task(N_ways,\"val\")\n",
        "        correct = nearest_neighbour_correct(pairs,targets)\n",
        "        n_right += correct\n",
        "    return 100.0 * n_right / n_trials\n",
        "\n",
        "\n",
        "ways = np.arange(1, 60, 2)\n",
        "resume =  False\n",
        "val_accs, train_accs,nn_accs = [], [], []\n",
        "trials = 450\n",
        "for N in ways:\n",
        "    val_accs.append(loader.test_oneshot(siamese_net, N,trials, \"val\", verbose=True))\n",
        "    train_accs.append(loader.test_oneshot(siamese_net, N,trials, \"train\", verbose=True))\n",
        "    nn_accs.append(test_nn_accuracy(N,trials, loader))\n",
        "    \n",
        "#plot the accuracy vs num categories for each\n",
        "plt.plot(ways, val_accs, \"m\")\n",
        "plt.plot(ways, train_accs, \"y\")\n",
        "plt.plot(ways, nn_accs, \"c\")\n",
        "\n",
        "plt.plot(ways,100.0/ways,\"r\")\n",
        "plt.show()"
      ],
      "execution_count": 31,
      "outputs": [
        {
          "output_type": "stream",
          "text": [
            "Evaluating model on 450 random 1 way one-shot learning tasks ...\n",
            "Got an average of 100.0% 1 way one-shot learning accuracy\n",
            "Evaluating model on 450 random 1 way one-shot learning tasks ...\n",
            "Got an average of 100.0% 1 way one-shot learning accuracy\n",
            "Evaluating nearest neighbour on 450 unique 1 way one-shot learning tasks ...\n",
            "Evaluating model on 450 random 3 way one-shot learning tasks ...\n",
            "Got an average of 96.22222222222223% 3 way one-shot learning accuracy\n",
            "Evaluating model on 450 random 3 way one-shot learning tasks ...\n",
            "Got an average of 99.55555555555556% 3 way one-shot learning accuracy\n",
            "Evaluating nearest neighbour on 450 unique 3 way one-shot learning tasks ...\n",
            "Evaluating model on 450 random 5 way one-shot learning tasks ...\n",
            "Got an average of 93.55555555555556% 5 way one-shot learning accuracy\n",
            "Evaluating model on 450 random 5 way one-shot learning tasks ...\n",
            "Got an average of 98.66666666666667% 5 way one-shot learning accuracy\n",
            "Evaluating nearest neighbour on 450 unique 5 way one-shot learning tasks ...\n",
            "Evaluating model on 450 random 7 way one-shot learning tasks ...\n",
            "Got an average of 91.55555555555556% 7 way one-shot learning accuracy\n",
            "Evaluating model on 450 random 7 way one-shot learning tasks ...\n",
            "Got an average of 98.66666666666667% 7 way one-shot learning accuracy\n",
            "Evaluating nearest neighbour on 450 unique 7 way one-shot learning tasks ...\n",
            "Evaluating model on 450 random 9 way one-shot learning tasks ...\n",
            "Got an average of 88.66666666666667% 9 way one-shot learning accuracy\n",
            "Evaluating model on 450 random 9 way one-shot learning tasks ...\n",
            "Got an average of 98.22222222222223% 9 way one-shot learning accuracy\n",
            "Evaluating nearest neighbour on 450 unique 9 way one-shot learning tasks ...\n",
            "Evaluating model on 450 random 11 way one-shot learning tasks ...\n",
            "Got an average of 89.33333333333333% 11 way one-shot learning accuracy\n",
            "Evaluating model on 450 random 11 way one-shot learning tasks ...\n",
            "Got an average of 98.44444444444444% 11 way one-shot learning accuracy\n",
            "Evaluating nearest neighbour on 450 unique 11 way one-shot learning tasks ...\n",
            "Evaluating model on 450 random 13 way one-shot learning tasks ...\n",
            "Got an average of 88.44444444444444% 13 way one-shot learning accuracy\n",
            "Evaluating model on 450 random 13 way one-shot learning tasks ...\n",
            "Got an average of 98.0% 13 way one-shot learning accuracy\n",
            "Evaluating nearest neighbour on 450 unique 13 way one-shot learning tasks ...\n",
            "Evaluating model on 450 random 15 way one-shot learning tasks ...\n",
            "Got an average of 87.55555555555556% 15 way one-shot learning accuracy\n",
            "Evaluating model on 450 random 15 way one-shot learning tasks ...\n",
            "Got an average of 97.11111111111111% 15 way one-shot learning accuracy\n",
            "Evaluating nearest neighbour on 450 unique 15 way one-shot learning tasks ...\n",
            "Evaluating model on 450 random 17 way one-shot learning tasks ...\n",
            "Got an average of 86.88888888888889% 17 way one-shot learning accuracy\n",
            "Evaluating model on 450 random 17 way one-shot learning tasks ...\n",
            "Got an average of 96.88888888888889% 17 way one-shot learning accuracy\n",
            "Evaluating nearest neighbour on 450 unique 17 way one-shot learning tasks ...\n",
            "Evaluating model on 450 random 19 way one-shot learning tasks ...\n",
            "Got an average of 84.22222222222223% 19 way one-shot learning accuracy\n",
            "Evaluating model on 450 random 19 way one-shot learning tasks ...\n",
            "Got an average of 98.22222222222223% 19 way one-shot learning accuracy\n",
            "Evaluating nearest neighbour on 450 unique 19 way one-shot learning tasks ...\n",
            "Evaluating model on 450 random 21 way one-shot learning tasks ...\n",
            "Got an average of 83.55555555555556% 21 way one-shot learning accuracy\n",
            "Evaluating model on 450 random 21 way one-shot learning tasks ...\n",
            "Got an average of 94.88888888888889% 21 way one-shot learning accuracy\n",
            "Evaluating nearest neighbour on 450 unique 21 way one-shot learning tasks ...\n",
            "Evaluating model on 450 random 23 way one-shot learning tasks ...\n",
            "Got an average of 80.66666666666667% 23 way one-shot learning accuracy\n",
            "Evaluating model on 450 random 23 way one-shot learning tasks ...\n",
            "Got an average of 96.88888888888889% 23 way one-shot learning accuracy\n",
            "Evaluating nearest neighbour on 450 unique 23 way one-shot learning tasks ...\n",
            "Evaluating model on 450 random 25 way one-shot learning tasks ...\n",
            "Got an average of 83.33333333333333% 25 way one-shot learning accuracy\n",
            "Evaluating model on 450 random 25 way one-shot learning tasks ...\n",
            "Got an average of 94.0% 25 way one-shot learning accuracy\n",
            "Evaluating nearest neighbour on 450 unique 25 way one-shot learning tasks ...\n",
            "Evaluating model on 450 random 27 way one-shot learning tasks ...\n",
            "Got an average of 82.44444444444444% 27 way one-shot learning accuracy\n",
            "Evaluating model on 450 random 27 way one-shot learning tasks ...\n",
            "Got an average of 95.77777777777777% 27 way one-shot learning accuracy\n",
            "Evaluating nearest neighbour on 450 unique 27 way one-shot learning tasks ...\n",
            "Evaluating model on 450 random 29 way one-shot learning tasks ...\n",
            "Got an average of 77.11111111111111% 29 way one-shot learning accuracy\n",
            "Evaluating model on 450 random 29 way one-shot learning tasks ...\n",
            "Got an average of 94.88888888888889% 29 way one-shot learning accuracy\n",
            "Evaluating nearest neighbour on 450 unique 29 way one-shot learning tasks ...\n",
            "Evaluating model on 450 random 31 way one-shot learning tasks ...\n",
            "Got an average of 78.44444444444444% 31 way one-shot learning accuracy\n",
            "Evaluating model on 450 random 31 way one-shot learning tasks ...\n",
            "Got an average of 94.22222222222223% 31 way one-shot learning accuracy\n",
            "Evaluating nearest neighbour on 450 unique 31 way one-shot learning tasks ...\n",
            "Evaluating model on 450 random 33 way one-shot learning tasks ...\n",
            "Got an average of 78.44444444444444% 33 way one-shot learning accuracy\n",
            "Evaluating model on 450 random 33 way one-shot learning tasks ...\n",
            "Got an average of 93.55555555555556% 33 way one-shot learning accuracy\n",
            "Evaluating nearest neighbour on 450 unique 33 way one-shot learning tasks ...\n",
            "Evaluating model on 450 random 35 way one-shot learning tasks ...\n",
            "Got an average of 82.0% 35 way one-shot learning accuracy\n",
            "Evaluating model on 450 random 35 way one-shot learning tasks ...\n",
            "Got an average of 94.88888888888889% 35 way one-shot learning accuracy\n",
            "Evaluating nearest neighbour on 450 unique 35 way one-shot learning tasks ...\n",
            "Evaluating model on 450 random 37 way one-shot learning tasks ...\n",
            "Got an average of 73.77777777777777% 37 way one-shot learning accuracy\n",
            "Evaluating model on 450 random 37 way one-shot learning tasks ...\n",
            "Got an average of 94.0% 37 way one-shot learning accuracy\n",
            "Evaluating nearest neighbour on 450 unique 37 way one-shot learning tasks ...\n",
            "Evaluating model on 450 random 39 way one-shot learning tasks ...\n",
            "Got an average of 72.22222222222223% 39 way one-shot learning accuracy\n",
            "Evaluating model on 450 random 39 way one-shot learning tasks ...\n",
            "Got an average of 94.44444444444444% 39 way one-shot learning accuracy\n",
            "Evaluating nearest neighbour on 450 unique 39 way one-shot learning tasks ...\n",
            "Evaluating model on 450 random 41 way one-shot learning tasks ...\n",
            "Got an average of 75.55555555555556% 41 way one-shot learning accuracy\n",
            "Evaluating model on 450 random 41 way one-shot learning tasks ...\n",
            "Got an average of 95.11111111111111% 41 way one-shot learning accuracy\n",
            "Evaluating nearest neighbour on 450 unique 41 way one-shot learning tasks ...\n",
            "Evaluating model on 450 random 43 way one-shot learning tasks ...\n",
            "Got an average of 74.22222222222223% 43 way one-shot learning accuracy\n",
            "Evaluating model on 450 random 43 way one-shot learning tasks ...\n",
            "Got an average of 91.11111111111111% 43 way one-shot learning accuracy\n",
            "Evaluating nearest neighbour on 450 unique 43 way one-shot learning tasks ...\n",
            "Evaluating model on 450 random 45 way one-shot learning tasks ...\n",
            "Got an average of 69.77777777777777% 45 way one-shot learning accuracy\n",
            "Evaluating model on 450 random 45 way one-shot learning tasks ...\n",
            "Got an average of 91.77777777777777% 45 way one-shot learning accuracy\n",
            "Evaluating nearest neighbour on 450 unique 45 way one-shot learning tasks ...\n",
            "Evaluating model on 450 random 47 way one-shot learning tasks ...\n",
            "Got an average of 71.11111111111111% 47 way one-shot learning accuracy\n",
            "Evaluating model on 450 random 47 way one-shot learning tasks ...\n",
            "Got an average of 90.22222222222223% 47 way one-shot learning accuracy\n",
            "Evaluating nearest neighbour on 450 unique 47 way one-shot learning tasks ...\n",
            "Evaluating model on 450 random 49 way one-shot learning tasks ...\n",
            "Got an average of 71.33333333333333% 49 way one-shot learning accuracy\n",
            "Evaluating model on 450 random 49 way one-shot learning tasks ...\n",
            "Got an average of 91.33333333333333% 49 way one-shot learning accuracy\n",
            "Evaluating nearest neighbour on 450 unique 49 way one-shot learning tasks ...\n",
            "Evaluating model on 450 random 51 way one-shot learning tasks ...\n",
            "Got an average of 72.88888888888889% 51 way one-shot learning accuracy\n",
            "Evaluating model on 450 random 51 way one-shot learning tasks ...\n",
            "Got an average of 92.22222222222223% 51 way one-shot learning accuracy\n",
            "Evaluating nearest neighbour on 450 unique 51 way one-shot learning tasks ...\n",
            "Evaluating model on 450 random 53 way one-shot learning tasks ...\n",
            "Got an average of 72.0% 53 way one-shot learning accuracy\n",
            "Evaluating model on 450 random 53 way one-shot learning tasks ...\n",
            "Got an average of 91.33333333333333% 53 way one-shot learning accuracy\n",
            "Evaluating nearest neighbour on 450 unique 53 way one-shot learning tasks ...\n",
            "Evaluating model on 450 random 55 way one-shot learning tasks ...\n",
            "Got an average of 71.11111111111111% 55 way one-shot learning accuracy\n",
            "Evaluating model on 450 random 55 way one-shot learning tasks ...\n",
            "Got an average of 90.44444444444444% 55 way one-shot learning accuracy\n",
            "Evaluating nearest neighbour on 450 unique 55 way one-shot learning tasks ...\n",
            "Evaluating model on 450 random 57 way one-shot learning tasks ...\n",
            "Got an average of 71.11111111111111% 57 way one-shot learning accuracy\n",
            "Evaluating model on 450 random 57 way one-shot learning tasks ...\n",
            "Got an average of 92.66666666666667% 57 way one-shot learning accuracy\n",
            "Evaluating nearest neighbour on 450 unique 57 way one-shot learning tasks ...\n",
            "Evaluating model on 450 random 59 way one-shot learning tasks ...\n",
            "Got an average of 71.77777777777777% 59 way one-shot learning accuracy\n",
            "Evaluating model on 450 random 59 way one-shot learning tasks ...\n",
            "Got an average of 90.66666666666667% 59 way one-shot learning accuracy\n",
            "Evaluating nearest neighbour on 450 unique 59 way one-shot learning tasks ...\n"
          ],
          "name": "stdout"
        },
        {
          "output_type": "display_data",
          "data": {
            "image/png": "[encoded data removed]",
            "text/plain": [
              "<Figure size 432x288 with 1 Axes>"
            ]
          },
          "metadata": {
            "tags": [],
            "needs_background": "light"
          }
        }
      ]
    },
    {
      "cell_type": "code",
      "metadata": {
        "id": "JaTn_QXdcKdj",
        "colab_type": "code",
        "colab": {}
      },
      "source": [
        "import numpy as np\n",
        "np.arange(1, 60, 2)"
      ],
      "execution_count": 0,
      "outputs": []
    },
    {
      "cell_type": "code",
      "metadata": {
        "id": "Ys4xvLOlUoPU",
        "colab_type": "code",
        "colab": {
          "base_uri": "https://localhost:8080/",
          "height": 906
        },
        "outputId": "3d563d4c-c222-4f34-bfbc-9ea32fcf0246"
      },
      "source": [
        "fig,ax = plt.subplots(1)\n",
        "ax.plot(ways,val_accs,\"m\",label=\"Siamese(val set)\")\n",
        "ax.plot(ways,train_accs,\"y\",label=\"Siamese(train set)\")\n",
        "plt.plot(ways,nn_accs,label=\"Nearest neighbour\")\n",
        "\n",
        "ax.plot(ways,100.0/ways,\"g\",label=\"Random guessing\")\n",
        "plt.xlabel(\"Number of possible classes in one-shot tasks\")\n",
        "plt.ylabel(\"% Accuracy\")\n",
        "plt.title(\"Omiglot One-Shot Learning Performance of a Siamese Network\")\n",
        "box = ax.get_position()\n",
        "ax.set_position([box.x0, box.y0, box.width * 0.8, box.height])\n",
        "ax.legend(loc='center left', bbox_to_anchor=(1, 0.5))\n",
        "inputs,targets = loader.make_oneshot_task(20,\"val\")\n",
        "plt.show()\n",
        "\n",
        "print(inputs[0].shape)\n",
        "plot_oneshot_task(inputs)\n",
        "p=siamese_net.predict(inputs)\n",
        "print(p)"
      ],
      "execution_count": 32,
      "outputs": [
        {
          "output_type": "display_data",
          "data": {
            "image/png": "[encoded data removed]",
            "text/plain": [
              "<Figure size 432x288 with 1 Axes>"
            ]
          },
          "metadata": {
            "tags": [],
            "needs_background": "light"
          }
        },
        {
          "output_type": "stream",
          "text": [
            "(20, 105, 105, 1)\n"
          ],
          "name": "stdout"
        },
        {
          "output_type": "display_data",
          "data": {
            "image/png": "[encoded data removed]",
            "text/plain": [
              "<Figure size 432x288 with 2 Axes>"
            ]
          },
          "metadata": {
            "tags": [],
            "needs_background": "light"
          }
        },
        {
          "output_type": "stream",
          "text": [
            "[[7.0422762e-03]\n",
            " [1.3905704e-07]\n",
            " [3.1213371e-08]\n",
            " [2.2081998e-03]\n",
            " [1.7263096e-08]\n",
            " [1.7622672e-01]\n",
            " [3.3975581e-03]\n",
            " [1.0608180e-05]\n",
            " [3.7576497e-04]\n",
            " [3.9188292e-02]\n",
            " [7.8464552e-07]\n",
            " [2.5295567e-05]\n",
            " [6.8653080e-06]\n",
            " [4.3188124e-06]\n",
            " [1.3506673e-03]\n",
            " [2.0821912e-04]\n",
            " [3.6263444e-07]\n",
            " [9.8092222e-08]\n",
            " [3.1058502e-03]\n",
            " [9.4745111e-01]]\n"
          ],
          "name": "stdout"
        }
      ]
    },
    {
      "cell_type": "code",
      "metadata": {
        "id": "XEXpM05UUoPW",
        "colab_type": "code",
        "colab": {
          "base_uri": "https://localhost:8080/",
          "height": 52
        },
        "outputId": "f2a77ad0-6c4a-4102-c478-7feba933f9ca"
      },
      "source": [
        "\n",
        "a=test_nn_accuracy(3,500,loader)\n",
        "print(a)"
      ],
      "execution_count": 33,
      "outputs": [
        {
          "output_type": "stream",
          "text": [
            "Evaluating nearest neighbour on 500 unique 3 way one-shot learning tasks ...\n",
            "60.8\n"
          ],
          "name": "stdout"
        }
      ]
    },
    {
      "cell_type": "code",
      "metadata": {
        "id": "Cuzl32ZOUoPY",
        "colab_type": "code",
        "colab": {}
      },
      "source": [
        ""
      ],
      "execution_count": 0,
      "outputs": []
    }
  ]
}